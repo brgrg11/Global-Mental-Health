{
  "nbformat": 4,
  "nbformat_minor": 0,
  "metadata": {
    "colab": {
      "provenance": []
    },
    "kernelspec": {
      "name": "python3",
      "display_name": "Python 3"
    },
    "language_info": {
      "name": "python"
    }
  },
  "cells": [
    {
      "cell_type": "markdown",
      "source": [
        "# Module 1&2\n"
      ],
      "metadata": {
        "id": "obYGKMYiNtgL"
      }
    },
    {
      "cell_type": "code",
      "execution_count": null,
      "metadata": {
        "id": "UKerfTe4E7tv",
        "colab": {
          "base_uri": "https://localhost:8080/"
        },
        "outputId": "32fee9f9-83f2-4ac1-a25c-ef897ef87a21"
      },
      "outputs": [
        {
          "output_type": "stream",
          "name": "stdout",
          "text": [
            "Mounted at /content/drive/\n"
          ]
        }
      ],
      "source": [
        "import os\n",
        "from google.colab import drive\n",
        "drive.mount('/content/drive/')\n",
        "os.chdir(\"/content/drive/My Drive/\")"
      ]
    },
    {
      "cell_type": "code",
      "source": [
        "# Some quick imports.\n",
        "import pandas as pd\n",
        "import numpy as np\n",
        "import scipy.stats\n",
        "import statsmodels.stats.weightstats as sms\n",
        "import statsmodels.formula.api as smf\n",
        "import statsmodels.api as sm\n",
        "# install all the packages we're going to need.\n",
        "\n",
        "! pip install --upgrade tables\n",
        "import scipy.stats\n",
        "import seaborn as sns\n",
        "import matplotlib as plt"
      ],
      "metadata": {
        "id": "MZGc-P7iqIc-"
      },
      "execution_count": null,
      "outputs": []
    },
    {
      "cell_type": "code",
      "source": [
        "guns_df = pd.read_csv(\"thebleak13s1.csv\", sep=\",\", names = ['case', 'location', 'city', 'state', 'date', 'summary', 'fatalities', 'injured', 'total_victims', 'location_2', 'age_of_shooter','prior_signs_mental_health_issues', 'mental_health_details', 'weapons_obtained_legally', 'where_obtained', 'weapon_type', 'weapon_details', 'race', 'gender', 'sources', 'mental_health_sources', 'sources_additional_age', 'latitude', 'longitude', 'type','year'], engine= 'c')"
      ],
      "metadata": {
        "id": "iJug22JqqSzy"
      },
      "execution_count": null,
      "outputs": []
    },
    {
      "cell_type": "code",
      "source": [
        "guns_df.head()\n",
        "\n"
      ],
      "metadata": {
        "colab": {
          "base_uri": "https://localhost:8080/",
          "height": 647
        },
        "id": "_ouymQFCudva",
        "outputId": "3947679b-c220-4f2e-ad4c-ab09d8bac02a"
      },
      "execution_count": null,
      "outputs": [
        {
          "output_type": "execute_result",
          "data": {
            "text/plain": [
              "                              case                    location  \\\n",
              "0                             case                    location   \n",
              "1        Virginia Walmart shooting        Chesapeake, Virginia   \n",
              "2              LGBTQ club shooting  Colorado Springs, Colorado   \n",
              "3  University of Virginia shooting   Charlottesville, Virginia   \n",
              "4           Raleigh spree shooting   Hedingham, North Carolina   \n",
              "\n",
              "               city           state        date  \\\n",
              "0              city           state        date   \n",
              "1        Chesapeake        Virginia  11/22/2022   \n",
              "2  Colorado Springs        Colorado  11/19/2022   \n",
              "3   Charlottesville        Virginia  11/13/2022   \n",
              "4         Hedingham  North Carolina  10/13/2022   \n",
              "\n",
              "                                             summary  fatalities  injured  \\\n",
              "0                                            summary  fatalities  injured   \n",
              "1  Andre Bing, 31, who worked as a supervisor at ...           6        6   \n",
              "2  Anderson L. Aldrich, 22, wore body armor and o...           5       25   \n",
              "3  Christopher Darnell Jones Jr., 22, allegedly o...           3        2   \n",
              "4  Austin Thompson, 15, went on a rampage in the ...           5        2   \n",
              "\n",
              "   total_victims  location_2  ...  weapon_details   race  gender  \\\n",
              "0  total_victims  location_2  ...  weapon_details   race  gender   \n",
              "1             12   Workplace  ...               -      -       M   \n",
              "2             30       Other  ...               -  White       M   \n",
              "3              5      School  ...               -  Black       M   \n",
              "4              7       Other  ...             NaN  White       M   \n",
              "\n",
              "                                             sources  \\\n",
              "0                                            sources   \n",
              "1  https://www.washingtonpost.com/dc-md-va/2022/1...   \n",
              "2  https://coloradosun.com/2022/11/20/club-q-shoo...   \n",
              "3  https://www.washingtonpost.com/nation/2022/11/...   \n",
              "4  https://www.newsobserver.com/news/local/crime/...   \n",
              "\n",
              "                               mental_health_sources  sources_additional_age  \\\n",
              "0                              mental_health_sources  sources_additional_age   \n",
              "1                                                  -                       -   \n",
              "2  https://www.nytimes.com/2022/11/20/us/colorado...                       -   \n",
              "3                                                  -                       -   \n",
              "4                                                  -                       -   \n",
              "\n",
              "   latitude  longitude   type  year  \n",
              "0  latitude  longitude   type  year  \n",
              "1         -          -   Mass  2022  \n",
              "2         -          -   Mass  2022  \n",
              "3         -          -   Mass  2022  \n",
              "4         -          -  Spree  2022  \n",
              "\n",
              "[5 rows x 26 columns]"
            ],
            "text/html": [
              "\n",
              "  <div id=\"df-9ce8ed4e-e7f3-4e79-94fe-61cfb135df51\">\n",
              "    <div class=\"colab-df-container\">\n",
              "      <div>\n",
              "<style scoped>\n",
              "    .dataframe tbody tr th:only-of-type {\n",
              "        vertical-align: middle;\n",
              "    }\n",
              "\n",
              "    .dataframe tbody tr th {\n",
              "        vertical-align: top;\n",
              "    }\n",
              "\n",
              "    .dataframe thead th {\n",
              "        text-align: right;\n",
              "    }\n",
              "</style>\n",
              "<table border=\"1\" class=\"dataframe\">\n",
              "  <thead>\n",
              "    <tr style=\"text-align: right;\">\n",
              "      <th></th>\n",
              "      <th>case</th>\n",
              "      <th>location</th>\n",
              "      <th>city</th>\n",
              "      <th>state</th>\n",
              "      <th>date</th>\n",
              "      <th>summary</th>\n",
              "      <th>fatalities</th>\n",
              "      <th>injured</th>\n",
              "      <th>total_victims</th>\n",
              "      <th>location_2</th>\n",
              "      <th>...</th>\n",
              "      <th>weapon_details</th>\n",
              "      <th>race</th>\n",
              "      <th>gender</th>\n",
              "      <th>sources</th>\n",
              "      <th>mental_health_sources</th>\n",
              "      <th>sources_additional_age</th>\n",
              "      <th>latitude</th>\n",
              "      <th>longitude</th>\n",
              "      <th>type</th>\n",
              "      <th>year</th>\n",
              "    </tr>\n",
              "  </thead>\n",
              "  <tbody>\n",
              "    <tr>\n",
              "      <th>0</th>\n",
              "      <td>case</td>\n",
              "      <td>location</td>\n",
              "      <td>city</td>\n",
              "      <td>state</td>\n",
              "      <td>date</td>\n",
              "      <td>summary</td>\n",
              "      <td>fatalities</td>\n",
              "      <td>injured</td>\n",
              "      <td>total_victims</td>\n",
              "      <td>location_2</td>\n",
              "      <td>...</td>\n",
              "      <td>weapon_details</td>\n",
              "      <td>race</td>\n",
              "      <td>gender</td>\n",
              "      <td>sources</td>\n",
              "      <td>mental_health_sources</td>\n",
              "      <td>sources_additional_age</td>\n",
              "      <td>latitude</td>\n",
              "      <td>longitude</td>\n",
              "      <td>type</td>\n",
              "      <td>year</td>\n",
              "    </tr>\n",
              "    <tr>\n",
              "      <th>1</th>\n",
              "      <td>Virginia Walmart shooting</td>\n",
              "      <td>Chesapeake, Virginia</td>\n",
              "      <td>Chesapeake</td>\n",
              "      <td>Virginia</td>\n",
              "      <td>11/22/2022</td>\n",
              "      <td>Andre Bing, 31, who worked as a supervisor at ...</td>\n",
              "      <td>6</td>\n",
              "      <td>6</td>\n",
              "      <td>12</td>\n",
              "      <td>Workplace</td>\n",
              "      <td>...</td>\n",
              "      <td>-</td>\n",
              "      <td>-</td>\n",
              "      <td>M</td>\n",
              "      <td>https://www.washingtonpost.com/dc-md-va/2022/1...</td>\n",
              "      <td>-</td>\n",
              "      <td>-</td>\n",
              "      <td>-</td>\n",
              "      <td>-</td>\n",
              "      <td>Mass</td>\n",
              "      <td>2022</td>\n",
              "    </tr>\n",
              "    <tr>\n",
              "      <th>2</th>\n",
              "      <td>LGBTQ club shooting</td>\n",
              "      <td>Colorado Springs, Colorado</td>\n",
              "      <td>Colorado Springs</td>\n",
              "      <td>Colorado</td>\n",
              "      <td>11/19/2022</td>\n",
              "      <td>Anderson L. Aldrich, 22, wore body armor and o...</td>\n",
              "      <td>5</td>\n",
              "      <td>25</td>\n",
              "      <td>30</td>\n",
              "      <td>Other</td>\n",
              "      <td>...</td>\n",
              "      <td>-</td>\n",
              "      <td>White</td>\n",
              "      <td>M</td>\n",
              "      <td>https://coloradosun.com/2022/11/20/club-q-shoo...</td>\n",
              "      <td>https://www.nytimes.com/2022/11/20/us/colorado...</td>\n",
              "      <td>-</td>\n",
              "      <td>-</td>\n",
              "      <td>-</td>\n",
              "      <td>Mass</td>\n",
              "      <td>2022</td>\n",
              "    </tr>\n",
              "    <tr>\n",
              "      <th>3</th>\n",
              "      <td>University of Virginia shooting</td>\n",
              "      <td>Charlottesville, Virginia</td>\n",
              "      <td>Charlottesville</td>\n",
              "      <td>Virginia</td>\n",
              "      <td>11/13/2022</td>\n",
              "      <td>Christopher Darnell Jones Jr., 22, allegedly o...</td>\n",
              "      <td>3</td>\n",
              "      <td>2</td>\n",
              "      <td>5</td>\n",
              "      <td>School</td>\n",
              "      <td>...</td>\n",
              "      <td>-</td>\n",
              "      <td>Black</td>\n",
              "      <td>M</td>\n",
              "      <td>https://www.washingtonpost.com/nation/2022/11/...</td>\n",
              "      <td>-</td>\n",
              "      <td>-</td>\n",
              "      <td>-</td>\n",
              "      <td>-</td>\n",
              "      <td>Mass</td>\n",
              "      <td>2022</td>\n",
              "    </tr>\n",
              "    <tr>\n",
              "      <th>4</th>\n",
              "      <td>Raleigh spree shooting</td>\n",
              "      <td>Hedingham, North Carolina</td>\n",
              "      <td>Hedingham</td>\n",
              "      <td>North Carolina</td>\n",
              "      <td>10/13/2022</td>\n",
              "      <td>Austin Thompson, 15, went on a rampage in the ...</td>\n",
              "      <td>5</td>\n",
              "      <td>2</td>\n",
              "      <td>7</td>\n",
              "      <td>Other</td>\n",
              "      <td>...</td>\n",
              "      <td>NaN</td>\n",
              "      <td>White</td>\n",
              "      <td>M</td>\n",
              "      <td>https://www.newsobserver.com/news/local/crime/...</td>\n",
              "      <td>-</td>\n",
              "      <td>-</td>\n",
              "      <td>-</td>\n",
              "      <td>-</td>\n",
              "      <td>Spree</td>\n",
              "      <td>2022</td>\n",
              "    </tr>\n",
              "  </tbody>\n",
              "</table>\n",
              "<p>5 rows × 26 columns</p>\n",
              "</div>\n",
              "      <button class=\"colab-df-convert\" onclick=\"convertToInteractive('df-9ce8ed4e-e7f3-4e79-94fe-61cfb135df51')\"\n",
              "              title=\"Convert this dataframe to an interactive table.\"\n",
              "              style=\"display:none;\">\n",
              "        \n",
              "  <svg xmlns=\"http://www.w3.org/2000/svg\" height=\"24px\"viewBox=\"0 0 24 24\"\n",
              "       width=\"24px\">\n",
              "    <path d=\"M0 0h24v24H0V0z\" fill=\"none\"/>\n",
              "    <path d=\"M18.56 5.44l.94 2.06.94-2.06 2.06-.94-2.06-.94-.94-2.06-.94 2.06-2.06.94zm-11 1L8.5 8.5l.94-2.06 2.06-.94-2.06-.94L8.5 2.5l-.94 2.06-2.06.94zm10 10l.94 2.06.94-2.06 2.06-.94-2.06-.94-.94-2.06-.94 2.06-2.06.94z\"/><path d=\"M17.41 7.96l-1.37-1.37c-.4-.4-.92-.59-1.43-.59-.52 0-1.04.2-1.43.59L10.3 9.45l-7.72 7.72c-.78.78-.78 2.05 0 2.83L4 21.41c.39.39.9.59 1.41.59.51 0 1.02-.2 1.41-.59l7.78-7.78 2.81-2.81c.8-.78.8-2.07 0-2.86zM5.41 20L4 18.59l7.72-7.72 1.47 1.35L5.41 20z\"/>\n",
              "  </svg>\n",
              "      </button>\n",
              "      \n",
              "  <style>\n",
              "    .colab-df-container {\n",
              "      display:flex;\n",
              "      flex-wrap:wrap;\n",
              "      gap: 12px;\n",
              "    }\n",
              "\n",
              "    .colab-df-convert {\n",
              "      background-color: #E8F0FE;\n",
              "      border: none;\n",
              "      border-radius: 50%;\n",
              "      cursor: pointer;\n",
              "      display: none;\n",
              "      fill: #1967D2;\n",
              "      height: 32px;\n",
              "      padding: 0 0 0 0;\n",
              "      width: 32px;\n",
              "    }\n",
              "\n",
              "    .colab-df-convert:hover {\n",
              "      background-color: #E2EBFA;\n",
              "      box-shadow: 0px 1px 2px rgba(60, 64, 67, 0.3), 0px 1px 3px 1px rgba(60, 64, 67, 0.15);\n",
              "      fill: #174EA6;\n",
              "    }\n",
              "\n",
              "    [theme=dark] .colab-df-convert {\n",
              "      background-color: #3B4455;\n",
              "      fill: #D2E3FC;\n",
              "    }\n",
              "\n",
              "    [theme=dark] .colab-df-convert:hover {\n",
              "      background-color: #434B5C;\n",
              "      box-shadow: 0px 1px 3px 1px rgba(0, 0, 0, 0.15);\n",
              "      filter: drop-shadow(0px 1px 2px rgba(0, 0, 0, 0.3));\n",
              "      fill: #FFFFFF;\n",
              "    }\n",
              "  </style>\n",
              "\n",
              "      <script>\n",
              "        const buttonEl =\n",
              "          document.querySelector('#df-9ce8ed4e-e7f3-4e79-94fe-61cfb135df51 button.colab-df-convert');\n",
              "        buttonEl.style.display =\n",
              "          google.colab.kernel.accessAllowed ? 'block' : 'none';\n",
              "\n",
              "        async function convertToInteractive(key) {\n",
              "          const element = document.querySelector('#df-9ce8ed4e-e7f3-4e79-94fe-61cfb135df51');\n",
              "          const dataTable =\n",
              "            await google.colab.kernel.invokeFunction('convertToInteractive',\n",
              "                                                     [key], {});\n",
              "          if (!dataTable) return;\n",
              "\n",
              "          const docLinkHtml = 'Like what you see? Visit the ' +\n",
              "            '<a target=\"_blank\" href=https://colab.research.google.com/notebooks/data_table.ipynb>data table notebook</a>'\n",
              "            + ' to learn more about interactive tables.';\n",
              "          element.innerHTML = '';\n",
              "          dataTable['output_type'] = 'display_data';\n",
              "          await google.colab.output.renderOutput(dataTable, element);\n",
              "          const docLink = document.createElement('div');\n",
              "          docLink.innerHTML = docLinkHtml;\n",
              "          element.appendChild(docLink);\n",
              "        }\n",
              "      </script>\n",
              "    </div>\n",
              "  </div>\n",
              "  "
            ]
          },
          "metadata": {},
          "execution_count": 4
        }
      ]
    },
    {
      "cell_type": "code",
      "source": [
        "guns_df.tail()"
      ],
      "metadata": {
        "colab": {
          "base_uri": "https://localhost:8080/",
          "height": 734
        },
        "id": "ldxKcSYGwCz3",
        "outputId": "ebdd8233-628c-4fc5-fabb-9ba088fd3319"
      },
      "execution_count": null,
      "outputs": [
        {
          "output_type": "execute_result",
          "data": {
            "text/plain": [
              "                                      case                location  \\\n",
              "133        Shopping centers spree killings       Palm Bay, Florida   \n",
              "134  United States Postal Service shooting        Edmond, Oklahoma   \n",
              "135         San Ysidro McDonald's massacre  San Ysidro, California   \n",
              "136              Dallas nightclub shooting           Dallas, Texas   \n",
              "137                  Welding shop shooting          Miami, Florida   \n",
              "\n",
              "           city       state       date  \\\n",
              "133    Palm Bay     Florida  4/23/1987   \n",
              "134      Edmond    Oklahoma  8/20/1986   \n",
              "135  San Ysidro  California  7/18/1984   \n",
              "136      Dallas       Texas  6/29/1984   \n",
              "137       Miami     Florida  8/20/1982   \n",
              "\n",
              "                                               summary fatalities injured  \\\n",
              "133  Retired librarian William Cruse, 59, was paran...          6      14   \n",
              "134  Postal worker Patrick Sherrill, 44, opened fir...         15       6   \n",
              "135  James Oliver Huberty, 41, opened fire in a McD...         22      19   \n",
              "136  Abdelkrim Belachheb, 39, opened fire at an ups...          6       1   \n",
              "137  Junior high school teacher Carl Robert Brown, ...          8       3   \n",
              "\n",
              "    total_victims location_2  ...  \\\n",
              "133            20      Other  ...   \n",
              "134            21  Workplace  ...   \n",
              "135            41      Other  ...   \n",
              "136             7      Other  ...   \n",
              "137            11      Other  ...   \n",
              "\n",
              "                                        weapon_details   race gender  \\\n",
              "133  Sturm, Ruger Mini-14 semiautomatic rifle; 20-g...  White      M   \n",
              "134  .22-caliber, two .45-caliber Colt Model 1911-A...  White      M   \n",
              "135  9mm Browning P35 Hi-Power semiautomatic handgu...  White      M   \n",
              "136       9mm Smith & Wesson 459 semiautomatic handgun  White      M   \n",
              "137  Mossberg 500 Persuader pump-action shotgun wit...  White      M   \n",
              "\n",
              "                                               sources  \\\n",
              "133  http://articles.latimes.com/1987-04-25/news/mn...   \n",
              "134  http://news.google.com/newspapers?id=dm8aAAAAI...   \n",
              "135  http://www.utsandiego.com/san-ysidro-massacre/...   \n",
              "136  http://books.google.com/books?id=Hr3OBwP-lbUC&...   \n",
              "137  http://www.nytimes.com/1982/08/21/us/gunman-in...   \n",
              "\n",
              "                                 mental_health_sources  \\\n",
              "133  (Supreme Court of Florida Document) http://www...   \n",
              "134  http://newsok.com/sherrill-feared-mental-illne...   \n",
              "135  http://www.nctimes.com/news/local/article_2ba4...   \n",
              "136  http://books.google.com/books?id=Hr3OBwP-lbUC&...   \n",
              "137  http://news.google.com/newspapers?id=uuYLAAAAI...   \n",
              "\n",
              "                                sources_additional_age    latitude  \\\n",
              "133  http://articles.latimes.com/1987-04-25/news/mn...  28.0331886   \n",
              "134  http://news.google.com/newspapers?id=dm8aAAAAI...  35.6672015   \n",
              "135  http://www.utsandiego.com/san-ysidro-massacre/...  32.5520013   \n",
              "136  http://books.google.com/books?id=Hr3OBwP-lbUC&...   32.925166   \n",
              "137  http://www.nytimes.com/1982/08/21/us/gunman-in...   25.796491   \n",
              "\n",
              "        longitude   type  year  \n",
              "133   -80.6429695  Spree  1987  \n",
              "134  -97.42937037   Mass  1986  \n",
              "135  -117.0430813   Mass  1984  \n",
              "136    -96.838676   Mass  1984  \n",
              "137    -80.226683   Mass  1982  \n",
              "\n",
              "[5 rows x 26 columns]"
            ],
            "text/html": [
              "\n",
              "  <div id=\"df-5fa52005-17bf-46bd-9120-66025c829cb5\">\n",
              "    <div class=\"colab-df-container\">\n",
              "      <div>\n",
              "<style scoped>\n",
              "    .dataframe tbody tr th:only-of-type {\n",
              "        vertical-align: middle;\n",
              "    }\n",
              "\n",
              "    .dataframe tbody tr th {\n",
              "        vertical-align: top;\n",
              "    }\n",
              "\n",
              "    .dataframe thead th {\n",
              "        text-align: right;\n",
              "    }\n",
              "</style>\n",
              "<table border=\"1\" class=\"dataframe\">\n",
              "  <thead>\n",
              "    <tr style=\"text-align: right;\">\n",
              "      <th></th>\n",
              "      <th>case</th>\n",
              "      <th>location</th>\n",
              "      <th>city</th>\n",
              "      <th>state</th>\n",
              "      <th>date</th>\n",
              "      <th>summary</th>\n",
              "      <th>fatalities</th>\n",
              "      <th>injured</th>\n",
              "      <th>total_victims</th>\n",
              "      <th>location_2</th>\n",
              "      <th>...</th>\n",
              "      <th>weapon_details</th>\n",
              "      <th>race</th>\n",
              "      <th>gender</th>\n",
              "      <th>sources</th>\n",
              "      <th>mental_health_sources</th>\n",
              "      <th>sources_additional_age</th>\n",
              "      <th>latitude</th>\n",
              "      <th>longitude</th>\n",
              "      <th>type</th>\n",
              "      <th>year</th>\n",
              "    </tr>\n",
              "  </thead>\n",
              "  <tbody>\n",
              "    <tr>\n",
              "      <th>133</th>\n",
              "      <td>Shopping centers spree killings</td>\n",
              "      <td>Palm Bay, Florida</td>\n",
              "      <td>Palm Bay</td>\n",
              "      <td>Florida</td>\n",
              "      <td>4/23/1987</td>\n",
              "      <td>Retired librarian William Cruse, 59, was paran...</td>\n",
              "      <td>6</td>\n",
              "      <td>14</td>\n",
              "      <td>20</td>\n",
              "      <td>Other</td>\n",
              "      <td>...</td>\n",
              "      <td>Sturm, Ruger Mini-14 semiautomatic rifle; 20-g...</td>\n",
              "      <td>White</td>\n",
              "      <td>M</td>\n",
              "      <td>http://articles.latimes.com/1987-04-25/news/mn...</td>\n",
              "      <td>(Supreme Court of Florida Document) http://www...</td>\n",
              "      <td>http://articles.latimes.com/1987-04-25/news/mn...</td>\n",
              "      <td>28.0331886</td>\n",
              "      <td>-80.6429695</td>\n",
              "      <td>Spree</td>\n",
              "      <td>1987</td>\n",
              "    </tr>\n",
              "    <tr>\n",
              "      <th>134</th>\n",
              "      <td>United States Postal Service shooting</td>\n",
              "      <td>Edmond, Oklahoma</td>\n",
              "      <td>Edmond</td>\n",
              "      <td>Oklahoma</td>\n",
              "      <td>8/20/1986</td>\n",
              "      <td>Postal worker Patrick Sherrill, 44, opened fir...</td>\n",
              "      <td>15</td>\n",
              "      <td>6</td>\n",
              "      <td>21</td>\n",
              "      <td>Workplace</td>\n",
              "      <td>...</td>\n",
              "      <td>.22-caliber, two .45-caliber Colt Model 1911-A...</td>\n",
              "      <td>White</td>\n",
              "      <td>M</td>\n",
              "      <td>http://news.google.com/newspapers?id=dm8aAAAAI...</td>\n",
              "      <td>http://newsok.com/sherrill-feared-mental-illne...</td>\n",
              "      <td>http://news.google.com/newspapers?id=dm8aAAAAI...</td>\n",
              "      <td>35.6672015</td>\n",
              "      <td>-97.42937037</td>\n",
              "      <td>Mass</td>\n",
              "      <td>1986</td>\n",
              "    </tr>\n",
              "    <tr>\n",
              "      <th>135</th>\n",
              "      <td>San Ysidro McDonald's massacre</td>\n",
              "      <td>San Ysidro, California</td>\n",
              "      <td>San Ysidro</td>\n",
              "      <td>California</td>\n",
              "      <td>7/18/1984</td>\n",
              "      <td>James Oliver Huberty, 41, opened fire in a McD...</td>\n",
              "      <td>22</td>\n",
              "      <td>19</td>\n",
              "      <td>41</td>\n",
              "      <td>Other</td>\n",
              "      <td>...</td>\n",
              "      <td>9mm Browning P35 Hi-Power semiautomatic handgu...</td>\n",
              "      <td>White</td>\n",
              "      <td>M</td>\n",
              "      <td>http://www.utsandiego.com/san-ysidro-massacre/...</td>\n",
              "      <td>http://www.nctimes.com/news/local/article_2ba4...</td>\n",
              "      <td>http://www.utsandiego.com/san-ysidro-massacre/...</td>\n",
              "      <td>32.5520013</td>\n",
              "      <td>-117.0430813</td>\n",
              "      <td>Mass</td>\n",
              "      <td>1984</td>\n",
              "    </tr>\n",
              "    <tr>\n",
              "      <th>136</th>\n",
              "      <td>Dallas nightclub shooting</td>\n",
              "      <td>Dallas, Texas</td>\n",
              "      <td>Dallas</td>\n",
              "      <td>Texas</td>\n",
              "      <td>6/29/1984</td>\n",
              "      <td>Abdelkrim Belachheb, 39, opened fire at an ups...</td>\n",
              "      <td>6</td>\n",
              "      <td>1</td>\n",
              "      <td>7</td>\n",
              "      <td>Other</td>\n",
              "      <td>...</td>\n",
              "      <td>9mm Smith &amp; Wesson 459 semiautomatic handgun</td>\n",
              "      <td>White</td>\n",
              "      <td>M</td>\n",
              "      <td>http://books.google.com/books?id=Hr3OBwP-lbUC&amp;...</td>\n",
              "      <td>http://books.google.com/books?id=Hr3OBwP-lbUC&amp;...</td>\n",
              "      <td>http://books.google.com/books?id=Hr3OBwP-lbUC&amp;...</td>\n",
              "      <td>32.925166</td>\n",
              "      <td>-96.838676</td>\n",
              "      <td>Mass</td>\n",
              "      <td>1984</td>\n",
              "    </tr>\n",
              "    <tr>\n",
              "      <th>137</th>\n",
              "      <td>Welding shop shooting</td>\n",
              "      <td>Miami, Florida</td>\n",
              "      <td>Miami</td>\n",
              "      <td>Florida</td>\n",
              "      <td>8/20/1982</td>\n",
              "      <td>Junior high school teacher Carl Robert Brown, ...</td>\n",
              "      <td>8</td>\n",
              "      <td>3</td>\n",
              "      <td>11</td>\n",
              "      <td>Other</td>\n",
              "      <td>...</td>\n",
              "      <td>Mossberg 500 Persuader pump-action shotgun wit...</td>\n",
              "      <td>White</td>\n",
              "      <td>M</td>\n",
              "      <td>http://www.nytimes.com/1982/08/21/us/gunman-in...</td>\n",
              "      <td>http://news.google.com/newspapers?id=uuYLAAAAI...</td>\n",
              "      <td>http://www.nytimes.com/1982/08/21/us/gunman-in...</td>\n",
              "      <td>25.796491</td>\n",
              "      <td>-80.226683</td>\n",
              "      <td>Mass</td>\n",
              "      <td>1982</td>\n",
              "    </tr>\n",
              "  </tbody>\n",
              "</table>\n",
              "<p>5 rows × 26 columns</p>\n",
              "</div>\n",
              "      <button class=\"colab-df-convert\" onclick=\"convertToInteractive('df-5fa52005-17bf-46bd-9120-66025c829cb5')\"\n",
              "              title=\"Convert this dataframe to an interactive table.\"\n",
              "              style=\"display:none;\">\n",
              "        \n",
              "  <svg xmlns=\"http://www.w3.org/2000/svg\" height=\"24px\"viewBox=\"0 0 24 24\"\n",
              "       width=\"24px\">\n",
              "    <path d=\"M0 0h24v24H0V0z\" fill=\"none\"/>\n",
              "    <path d=\"M18.56 5.44l.94 2.06.94-2.06 2.06-.94-2.06-.94-.94-2.06-.94 2.06-2.06.94zm-11 1L8.5 8.5l.94-2.06 2.06-.94-2.06-.94L8.5 2.5l-.94 2.06-2.06.94zm10 10l.94 2.06.94-2.06 2.06-.94-2.06-.94-.94-2.06-.94 2.06-2.06.94z\"/><path d=\"M17.41 7.96l-1.37-1.37c-.4-.4-.92-.59-1.43-.59-.52 0-1.04.2-1.43.59L10.3 9.45l-7.72 7.72c-.78.78-.78 2.05 0 2.83L4 21.41c.39.39.9.59 1.41.59.51 0 1.02-.2 1.41-.59l7.78-7.78 2.81-2.81c.8-.78.8-2.07 0-2.86zM5.41 20L4 18.59l7.72-7.72 1.47 1.35L5.41 20z\"/>\n",
              "  </svg>\n",
              "      </button>\n",
              "      \n",
              "  <style>\n",
              "    .colab-df-container {\n",
              "      display:flex;\n",
              "      flex-wrap:wrap;\n",
              "      gap: 12px;\n",
              "    }\n",
              "\n",
              "    .colab-df-convert {\n",
              "      background-color: #E8F0FE;\n",
              "      border: none;\n",
              "      border-radius: 50%;\n",
              "      cursor: pointer;\n",
              "      display: none;\n",
              "      fill: #1967D2;\n",
              "      height: 32px;\n",
              "      padding: 0 0 0 0;\n",
              "      width: 32px;\n",
              "    }\n",
              "\n",
              "    .colab-df-convert:hover {\n",
              "      background-color: #E2EBFA;\n",
              "      box-shadow: 0px 1px 2px rgba(60, 64, 67, 0.3), 0px 1px 3px 1px rgba(60, 64, 67, 0.15);\n",
              "      fill: #174EA6;\n",
              "    }\n",
              "\n",
              "    [theme=dark] .colab-df-convert {\n",
              "      background-color: #3B4455;\n",
              "      fill: #D2E3FC;\n",
              "    }\n",
              "\n",
              "    [theme=dark] .colab-df-convert:hover {\n",
              "      background-color: #434B5C;\n",
              "      box-shadow: 0px 1px 3px 1px rgba(0, 0, 0, 0.15);\n",
              "      filter: drop-shadow(0px 1px 2px rgba(0, 0, 0, 0.3));\n",
              "      fill: #FFFFFF;\n",
              "    }\n",
              "  </style>\n",
              "\n",
              "      <script>\n",
              "        const buttonEl =\n",
              "          document.querySelector('#df-5fa52005-17bf-46bd-9120-66025c829cb5 button.colab-df-convert');\n",
              "        buttonEl.style.display =\n",
              "          google.colab.kernel.accessAllowed ? 'block' : 'none';\n",
              "\n",
              "        async function convertToInteractive(key) {\n",
              "          const element = document.querySelector('#df-5fa52005-17bf-46bd-9120-66025c829cb5');\n",
              "          const dataTable =\n",
              "            await google.colab.kernel.invokeFunction('convertToInteractive',\n",
              "                                                     [key], {});\n",
              "          if (!dataTable) return;\n",
              "\n",
              "          const docLinkHtml = 'Like what you see? Visit the ' +\n",
              "            '<a target=\"_blank\" href=https://colab.research.google.com/notebooks/data_table.ipynb>data table notebook</a>'\n",
              "            + ' to learn more about interactive tables.';\n",
              "          element.innerHTML = '';\n",
              "          dataTable['output_type'] = 'display_data';\n",
              "          await google.colab.output.renderOutput(dataTable, element);\n",
              "          const docLink = document.createElement('div');\n",
              "          docLink.innerHTML = docLinkHtml;\n",
              "          element.appendChild(docLink);\n",
              "        }\n",
              "      </script>\n",
              "    </div>\n",
              "  </div>\n",
              "  "
            ]
          },
          "metadata": {},
          "execution_count": 5
        }
      ]
    },
    {
      "cell_type": "code",
      "source": [
        "guns_df['state'].value_counts()"
      ],
      "metadata": {
        "colab": {
          "base_uri": "https://localhost:8080/"
        },
        "id": "42QMhwAWxKzj",
        "outputId": "c60ec6e1-8a3e-4e9e-b135-fc4392b8af27"
      },
      "execution_count": null,
      "outputs": [
        {
          "output_type": "execute_result",
          "data": {
            "text/plain": [
              "California        23\n",
              "Texas             12\n",
              "Florida           12\n",
              "Colorado           8\n",
              "Washington         7\n",
              "Pennsylvania       5\n",
              "New York           5\n",
              "Wisconsin          5\n",
              "Illinois           5\n",
              "Virginia           4\n",
              "Ohio               4\n",
              "Maryland           4\n",
              "Michigan           3\n",
              "Georgia            3\n",
              "Connecticut        3\n",
              "North Carolina     3\n",
              "Nevada             2\n",
              "Minnesota          2\n",
              "South Carolina     2\n",
              "Oregon             2\n",
              "Oklahoma           2\n",
              "Tennessee          2\n",
              "Indiana            2\n",
              "Kentucky           2\n",
              "Missouri           2\n",
              "Massachusetts      1\n",
              "Mississippi        1\n",
              "Hawaii             1\n",
              "Utah               1\n",
              "Arkansas           1\n",
              "Nebraska           1\n",
              "state              1\n",
              "Arizona            1\n",
              "D.C.               1\n",
              "Kansas             1\n",
              "Lousiana           1\n",
              "New Jersey         1\n",
              "Alabama            1\n",
              "Iowa               1\n",
              "Name: state, dtype: int64"
            ]
          },
          "metadata": {},
          "execution_count": 6
        }
      ]
    },
    {
      "cell_type": "code",
      "source": [
        "guns_df['location_2'].value_counts()"
      ],
      "metadata": {
        "colab": {
          "base_uri": "https://localhost:8080/"
        },
        "id": "kmQxthcqxejV",
        "outputId": "3c3359ca-01da-4264-908f-6739b7a82a04"
      },
      "execution_count": null,
      "outputs": [
        {
          "output_type": "execute_result",
          "data": {
            "text/plain": [
              "Other         52\n",
              "Workplace     50\n",
              "School        20\n",
              "Religious      8\n",
              "Military       6\n",
              "location_2     1\n",
              "Airport        1\n",
              "Name: location_2, dtype: int64"
            ]
          },
          "metadata": {},
          "execution_count": 7
        }
      ]
    },
    {
      "cell_type": "code",
      "source": [
        "guns_df.describe()"
      ],
      "metadata": {
        "colab": {
          "base_uri": "https://localhost:8080/",
          "height": 303
        },
        "id": "YReRxdrgxeZK",
        "outputId": "6d21729d-d830-4f47-a665-791cf862b996"
      },
      "execution_count": null,
      "outputs": [
        {
          "output_type": "execute_result",
          "data": {
            "text/plain": [
              "        case                    location              city       state  date  \\\n",
              "count    138                         138               138         138   138   \n",
              "unique   138                         127               124          39   138   \n",
              "top     case  Colorado Springs, Colorado  Colorado Springs  California  date   \n",
              "freq       1                           3                 3          23     1   \n",
              "\n",
              "        summary fatalities injured total_victims location_2  ...  \\\n",
              "count       138        138     138           138        138  ...   \n",
              "unique      138         23      32            42          7  ...   \n",
              "top     summary          5       0             5      Other  ...   \n",
              "freq          1         28      26            16         52  ...   \n",
              "\n",
              "       weapon_details   race gender  sources mental_health_sources  \\\n",
              "count             137    138    138      138                   138   \n",
              "unique            116     10      4      138                    87   \n",
              "top                 -  White      M  sources                     -   \n",
              "freq               17     72    132        1                    52   \n",
              "\n",
              "       sources_additional_age latitude longitude  type  year  \n",
              "count                     138      138       138   138   138  \n",
              "unique                    102      128       128     3    39  \n",
              "top                         -        -         -  Mass  2022  \n",
              "freq                       37       11        11   117    12  \n",
              "\n",
              "[4 rows x 26 columns]"
            ],
            "text/html": [
              "\n",
              "  <div id=\"df-6a60cba8-f8d4-4836-a392-b097dd3019fc\">\n",
              "    <div class=\"colab-df-container\">\n",
              "      <div>\n",
              "<style scoped>\n",
              "    .dataframe tbody tr th:only-of-type {\n",
              "        vertical-align: middle;\n",
              "    }\n",
              "\n",
              "    .dataframe tbody tr th {\n",
              "        vertical-align: top;\n",
              "    }\n",
              "\n",
              "    .dataframe thead th {\n",
              "        text-align: right;\n",
              "    }\n",
              "</style>\n",
              "<table border=\"1\" class=\"dataframe\">\n",
              "  <thead>\n",
              "    <tr style=\"text-align: right;\">\n",
              "      <th></th>\n",
              "      <th>case</th>\n",
              "      <th>location</th>\n",
              "      <th>city</th>\n",
              "      <th>state</th>\n",
              "      <th>date</th>\n",
              "      <th>summary</th>\n",
              "      <th>fatalities</th>\n",
              "      <th>injured</th>\n",
              "      <th>total_victims</th>\n",
              "      <th>location_2</th>\n",
              "      <th>...</th>\n",
              "      <th>weapon_details</th>\n",
              "      <th>race</th>\n",
              "      <th>gender</th>\n",
              "      <th>sources</th>\n",
              "      <th>mental_health_sources</th>\n",
              "      <th>sources_additional_age</th>\n",
              "      <th>latitude</th>\n",
              "      <th>longitude</th>\n",
              "      <th>type</th>\n",
              "      <th>year</th>\n",
              "    </tr>\n",
              "  </thead>\n",
              "  <tbody>\n",
              "    <tr>\n",
              "      <th>count</th>\n",
              "      <td>138</td>\n",
              "      <td>138</td>\n",
              "      <td>138</td>\n",
              "      <td>138</td>\n",
              "      <td>138</td>\n",
              "      <td>138</td>\n",
              "      <td>138</td>\n",
              "      <td>138</td>\n",
              "      <td>138</td>\n",
              "      <td>138</td>\n",
              "      <td>...</td>\n",
              "      <td>137</td>\n",
              "      <td>138</td>\n",
              "      <td>138</td>\n",
              "      <td>138</td>\n",
              "      <td>138</td>\n",
              "      <td>138</td>\n",
              "      <td>138</td>\n",
              "      <td>138</td>\n",
              "      <td>138</td>\n",
              "      <td>138</td>\n",
              "    </tr>\n",
              "    <tr>\n",
              "      <th>unique</th>\n",
              "      <td>138</td>\n",
              "      <td>127</td>\n",
              "      <td>124</td>\n",
              "      <td>39</td>\n",
              "      <td>138</td>\n",
              "      <td>138</td>\n",
              "      <td>23</td>\n",
              "      <td>32</td>\n",
              "      <td>42</td>\n",
              "      <td>7</td>\n",
              "      <td>...</td>\n",
              "      <td>116</td>\n",
              "      <td>10</td>\n",
              "      <td>4</td>\n",
              "      <td>138</td>\n",
              "      <td>87</td>\n",
              "      <td>102</td>\n",
              "      <td>128</td>\n",
              "      <td>128</td>\n",
              "      <td>3</td>\n",
              "      <td>39</td>\n",
              "    </tr>\n",
              "    <tr>\n",
              "      <th>top</th>\n",
              "      <td>case</td>\n",
              "      <td>Colorado Springs, Colorado</td>\n",
              "      <td>Colorado Springs</td>\n",
              "      <td>California</td>\n",
              "      <td>date</td>\n",
              "      <td>summary</td>\n",
              "      <td>5</td>\n",
              "      <td>0</td>\n",
              "      <td>5</td>\n",
              "      <td>Other</td>\n",
              "      <td>...</td>\n",
              "      <td>-</td>\n",
              "      <td>White</td>\n",
              "      <td>M</td>\n",
              "      <td>sources</td>\n",
              "      <td>-</td>\n",
              "      <td>-</td>\n",
              "      <td>-</td>\n",
              "      <td>-</td>\n",
              "      <td>Mass</td>\n",
              "      <td>2022</td>\n",
              "    </tr>\n",
              "    <tr>\n",
              "      <th>freq</th>\n",
              "      <td>1</td>\n",
              "      <td>3</td>\n",
              "      <td>3</td>\n",
              "      <td>23</td>\n",
              "      <td>1</td>\n",
              "      <td>1</td>\n",
              "      <td>28</td>\n",
              "      <td>26</td>\n",
              "      <td>16</td>\n",
              "      <td>52</td>\n",
              "      <td>...</td>\n",
              "      <td>17</td>\n",
              "      <td>72</td>\n",
              "      <td>132</td>\n",
              "      <td>1</td>\n",
              "      <td>52</td>\n",
              "      <td>37</td>\n",
              "      <td>11</td>\n",
              "      <td>11</td>\n",
              "      <td>117</td>\n",
              "      <td>12</td>\n",
              "    </tr>\n",
              "  </tbody>\n",
              "</table>\n",
              "<p>4 rows × 26 columns</p>\n",
              "</div>\n",
              "      <button class=\"colab-df-convert\" onclick=\"convertToInteractive('df-6a60cba8-f8d4-4836-a392-b097dd3019fc')\"\n",
              "              title=\"Convert this dataframe to an interactive table.\"\n",
              "              style=\"display:none;\">\n",
              "        \n",
              "  <svg xmlns=\"http://www.w3.org/2000/svg\" height=\"24px\"viewBox=\"0 0 24 24\"\n",
              "       width=\"24px\">\n",
              "    <path d=\"M0 0h24v24H0V0z\" fill=\"none\"/>\n",
              "    <path d=\"M18.56 5.44l.94 2.06.94-2.06 2.06-.94-2.06-.94-.94-2.06-.94 2.06-2.06.94zm-11 1L8.5 8.5l.94-2.06 2.06-.94-2.06-.94L8.5 2.5l-.94 2.06-2.06.94zm10 10l.94 2.06.94-2.06 2.06-.94-2.06-.94-.94-2.06-.94 2.06-2.06.94z\"/><path d=\"M17.41 7.96l-1.37-1.37c-.4-.4-.92-.59-1.43-.59-.52 0-1.04.2-1.43.59L10.3 9.45l-7.72 7.72c-.78.78-.78 2.05 0 2.83L4 21.41c.39.39.9.59 1.41.59.51 0 1.02-.2 1.41-.59l7.78-7.78 2.81-2.81c.8-.78.8-2.07 0-2.86zM5.41 20L4 18.59l7.72-7.72 1.47 1.35L5.41 20z\"/>\n",
              "  </svg>\n",
              "      </button>\n",
              "      \n",
              "  <style>\n",
              "    .colab-df-container {\n",
              "      display:flex;\n",
              "      flex-wrap:wrap;\n",
              "      gap: 12px;\n",
              "    }\n",
              "\n",
              "    .colab-df-convert {\n",
              "      background-color: #E8F0FE;\n",
              "      border: none;\n",
              "      border-radius: 50%;\n",
              "      cursor: pointer;\n",
              "      display: none;\n",
              "      fill: #1967D2;\n",
              "      height: 32px;\n",
              "      padding: 0 0 0 0;\n",
              "      width: 32px;\n",
              "    }\n",
              "\n",
              "    .colab-df-convert:hover {\n",
              "      background-color: #E2EBFA;\n",
              "      box-shadow: 0px 1px 2px rgba(60, 64, 67, 0.3), 0px 1px 3px 1px rgba(60, 64, 67, 0.15);\n",
              "      fill: #174EA6;\n",
              "    }\n",
              "\n",
              "    [theme=dark] .colab-df-convert {\n",
              "      background-color: #3B4455;\n",
              "      fill: #D2E3FC;\n",
              "    }\n",
              "\n",
              "    [theme=dark] .colab-df-convert:hover {\n",
              "      background-color: #434B5C;\n",
              "      box-shadow: 0px 1px 3px 1px rgba(0, 0, 0, 0.15);\n",
              "      filter: drop-shadow(0px 1px 2px rgba(0, 0, 0, 0.3));\n",
              "      fill: #FFFFFF;\n",
              "    }\n",
              "  </style>\n",
              "\n",
              "      <script>\n",
              "        const buttonEl =\n",
              "          document.querySelector('#df-6a60cba8-f8d4-4836-a392-b097dd3019fc button.colab-df-convert');\n",
              "        buttonEl.style.display =\n",
              "          google.colab.kernel.accessAllowed ? 'block' : 'none';\n",
              "\n",
              "        async function convertToInteractive(key) {\n",
              "          const element = document.querySelector('#df-6a60cba8-f8d4-4836-a392-b097dd3019fc');\n",
              "          const dataTable =\n",
              "            await google.colab.kernel.invokeFunction('convertToInteractive',\n",
              "                                                     [key], {});\n",
              "          if (!dataTable) return;\n",
              "\n",
              "          const docLinkHtml = 'Like what you see? Visit the ' +\n",
              "            '<a target=\"_blank\" href=https://colab.research.google.com/notebooks/data_table.ipynb>data table notebook</a>'\n",
              "            + ' to learn more about interactive tables.';\n",
              "          element.innerHTML = '';\n",
              "          dataTable['output_type'] = 'display_data';\n",
              "          await google.colab.output.renderOutput(dataTable, element);\n",
              "          const docLink = document.createElement('div');\n",
              "          docLink.innerHTML = docLinkHtml;\n",
              "          element.appendChild(docLink);\n",
              "        }\n",
              "      </script>\n",
              "    </div>\n",
              "  </div>\n",
              "  "
            ]
          },
          "metadata": {},
          "execution_count": 8
        }
      ]
    },
    {
      "cell_type": "markdown",
      "source": [
        "# Module 3&4"
      ],
      "metadata": {
        "id": "atS3Sb2bQ4yo"
      }
    },
    {
      "cell_type": "code",
      "execution_count": null,
      "metadata": {
        "colab": {
          "base_uri": "https://localhost:8080/"
        },
        "id": "tf_q9SjXIIpy",
        "outputId": "58484dd7-69df-468b-eb74-4712a7269497"
      },
      "outputs": [
        {
          "output_type": "stream",
          "name": "stdout",
          "text": [
            "['derringer', 'rifle', 'semiautomatic handgun', 'semiautomatic pistol', 'semiautomatic rifle']\n"
          ]
        }
      ],
      "source": [
        "# Type of weapon (gun)\n",
        "gun_type = ['derringer','rifle', 'semiautomatic handgun','semiautomatic pistol', 'semiautomatic rifle']\n",
        "\n",
        "print(gun_type)"
      ]
    },
    {
      "cell_type": "code",
      "source": [
        "# Type of weapon (non-gun)\n",
        "weapon_type = ['knife']\n",
        "# Combined weapon types\n",
        "all_weapons = gun_type + weapon_type\n",
        "\n",
        "print(all_weapons)"
      ],
      "metadata": {
        "colab": {
          "base_uri": "https://localhost:8080/"
        },
        "id": "z2u6POBAMZsc",
        "outputId": "22c9257a-8c07-4445-de58-5df545a7b700"
      },
      "execution_count": null,
      "outputs": [
        {
          "output_type": "stream",
          "name": "stdout",
          "text": [
            "['derringer', 'rifle', 'semiautomatic handgun', 'semiautomatic pistol', 'semiautomatic rifle', 'knife']\n"
          ]
        }
      ]
    },
    {
      "cell_type": "code",
      "source": [
        "# What would these lists look like as tuples?\n",
        "gun_type_tuple = ('derringer','rifle', 'semiautomatic handgun','semiautomatic pistol', 'semiautomatic rifle')\n",
        "\n",
        "print(gun_type_tuple)"
      ],
      "metadata": {
        "colab": {
          "base_uri": "https://localhost:8080/"
        },
        "id": "xGynRaoiQL-Q",
        "outputId": "b89f735c-07e2-418f-be9f-79418f5d00ec"
      },
      "execution_count": null,
      "outputs": [
        {
          "output_type": "stream",
          "name": "stdout",
          "text": [
            "('derringer', 'rifle', 'semiautomatic handgun', 'semiautomatic pistol', 'semiautomatic rifle')\n"
          ]
        }
      ]
    },
    {
      "cell_type": "code",
      "source": [
        "weapon_type_tuple = ('knife')\n",
        "\n",
        "print(weapon_type_tuple)"
      ],
      "metadata": {
        "colab": {
          "base_uri": "https://localhost:8080/"
        },
        "id": "BKwNY-sXQk0-",
        "outputId": "ade6e739-6d23-45f6-a370-a7797594d4a7"
      },
      "execution_count": null,
      "outputs": [
        {
          "output_type": "stream",
          "name": "stdout",
          "text": [
            "knife\n"
          ]
        }
      ]
    },
    {
      "cell_type": "code",
      "source": [
        "# How many types of gun in the dataset?\n",
        "len(gun_type)"
      ],
      "metadata": {
        "colab": {
          "base_uri": "https://localhost:8080/"
        },
        "id": "4p-KzYNqNnhZ",
        "outputId": "a6b43dfa-980a-45bc-a75e-5e32a225b959"
      },
      "execution_count": null,
      "outputs": [
        {
          "output_type": "execute_result",
          "data": {
            "text/plain": [
              "5"
            ]
          },
          "metadata": {},
          "execution_count": 14
        }
      ]
    },
    {
      "cell_type": "code",
      "source": [
        "# How many weapons were not guns?\n",
        "len(weapon_type)"
      ],
      "metadata": {
        "colab": {
          "base_uri": "https://localhost:8080/"
        },
        "id": "Hd4QBYK1PDNT",
        "outputId": "6d4b1de0-198e-496f-8d65-48556e13259c"
      },
      "execution_count": null,
      "outputs": [
        {
          "output_type": "execute_result",
          "data": {
            "text/plain": [
              "1"
            ]
          },
          "metadata": {},
          "execution_count": 15
        }
      ]
    },
    {
      "cell_type": "code",
      "source": [
        "# How many types of weapon are in this dataset?\n",
        "len(all_weapons)"
      ],
      "metadata": {
        "colab": {
          "base_uri": "https://localhost:8080/"
        },
        "id": "G7ePO64xPDpj",
        "outputId": "39f256dd-3286-42b0-d515-69cefb7efe0f"
      },
      "execution_count": null,
      "outputs": [
        {
          "output_type": "execute_result",
          "data": {
            "text/plain": [
              "6"
            ]
          },
          "metadata": {},
          "execution_count": 16
        }
      ]
    },
    {
      "cell_type": "code",
      "source": [
        "# What is the first type of weapon in our alphabetical list?\n",
        "all_weapons[0:1]"
      ],
      "metadata": {
        "colab": {
          "base_uri": "https://localhost:8080/"
        },
        "id": "MTvjSfR2PO8c",
        "outputId": "225b788d-5e5b-48e7-e906-e20c2e5d221d"
      },
      "execution_count": null,
      "outputs": [
        {
          "output_type": "execute_result",
          "data": {
            "text/plain": [
              "['derringer']"
            ]
          },
          "metadata": {},
          "execution_count": 17
        }
      ]
    },
    {
      "cell_type": "code",
      "source": [
        "# Need more information on derringers? Try this dictionary.\n",
        "derringer = {\n",
        "    'Name': 'Deringer',\n",
        "    'Description': 'A derringer is a small type of handgun. It is generally considered as the smallest usable handgun.'\n",
        "}\n",
        "derringer"
      ],
      "metadata": {
        "colab": {
          "base_uri": "https://localhost:8080/"
        },
        "id": "QPnVClhgQGKW",
        "outputId": "a26bcb44-6739-4313-aea3-a49e534894cc"
      },
      "execution_count": null,
      "outputs": [
        {
          "output_type": "execute_result",
          "data": {
            "text/plain": [
              "{'Name': 'Deringer',\n",
              " 'Description': 'A derringer is a small type of handgun. It is generally considered as the smallest usable handgun.'}"
            ]
          },
          "metadata": {},
          "execution_count": 18
        }
      ]
    },
    {
      "cell_type": "code",
      "source": [
        "derringer.keys()"
      ],
      "metadata": {
        "colab": {
          "base_uri": "https://localhost:8080/"
        },
        "id": "WAZUydJzSnYO",
        "outputId": "a3e4835d-be45-451f-cf17-4abb1c53dccb"
      },
      "execution_count": null,
      "outputs": [
        {
          "output_type": "execute_result",
          "data": {
            "text/plain": [
              "dict_keys(['Name', 'Description'])"
            ]
          },
          "metadata": {},
          "execution_count": 19
        }
      ]
    },
    {
      "cell_type": "code",
      "source": [
        "# There was a typo in my dictionary somewhere...\n",
        "derringer['Name'] = \"Derringer\"\n",
        "derringer"
      ],
      "metadata": {
        "colab": {
          "base_uri": "https://localhost:8080/"
        },
        "id": "1ohexz7wTOUh",
        "outputId": "98ded96b-6b7c-42b5-c557-007c3fd5e8cf"
      },
      "execution_count": null,
      "outputs": [
        {
          "output_type": "execute_result",
          "data": {
            "text/plain": [
              "{'Name': 'Derringer',\n",
              " 'Description': 'A derringer is a small type of handgun. It is generally considered as the smallest usable handgun.'}"
            ]
          },
          "metadata": {},
          "execution_count": 20
        }
      ]
    },
    {
      "cell_type": "code",
      "source": [
        "guns_df['weapon_type'].value_counts()"
      ],
      "metadata": {
        "id": "78MwWDUOital",
        "colab": {
          "base_uri": "https://localhost:8080/"
        },
        "outputId": "5d5d2c26-4473-46e3-856f-97be9ebb4427"
      },
      "execution_count": null,
      "outputs": [
        {
          "output_type": "execute_result",
          "data": {
            "text/plain": [
              "One semiautomatic handgun                                                                                                   35\n",
              "One semiautomatic rifle                                                                                                     16\n",
              "Two semiautomatic handguns                                                                                                   6\n",
              "-                                                                                                                            5\n",
              "One semiautomatic handgun, one revolver                                                                                      5\n",
              "One semiautomatic rifle, one semiautomatic handgun                                                                           5\n",
              "One revolver                                                                                                                 3\n",
              "Two handguns                                                                                                                 3\n",
              "One semiautomatic rifle, one shotgun, two semiautomatic handguns                                                             2\n",
              "One semiautomatic rifle, one handgun                                                                                         2\n",
              "One revolver, one shotgun                                                                                                    2\n",
              "One semiautomatic handgun, one semiautomatic rifle, one shotgun                                                              2\n",
              "One semiautomatic rifle, two semiautomatic handguns                                                                          2\n",
              "One shotgun                                                                                                                  2\n",
              "One semiautomatic rifle, one shotgun                                                                                         2\n",
              "Three semiautomatic handguns                                                                                                 2\n",
              "Two semiautomatic rifle, one semiautomatic handgun                                                                           2\n",
              "One handgun                                                                                                                  2\n",
              "Two semiautomatic rifles                                                                                                     2\n",
              "One semiautomatic handgun, two rifles, one derringer, one shotgun                                                            1\n",
              "Two semiautomatic handguns, one rifle, two revolvers, two shotguns                                                           1\n",
              "Two semiautomatic rifle, one revolver                                                                                        1\n",
              "One semiautomatic rifle, two semiautomatic handguns, one revolver                                                            1\n",
              "Three semiautomatic handguns, one shotgun                                                                                    1\n",
              "One semiautomatic handgun, one rifle, one shotgun                                                                            1\n",
              "Two semiautomatic handguns, one shotgun                                                                                      1\n",
              "Two rifles, one revolver, one shotgun                                                                                        1\n",
              "One rifle                                                                                                                    1\n",
              "One rifle, one revolver                                                                                                      1\n",
              "Three semiautomatic handguns, one revolver                                                                                   1\n",
              "One semiautomatic handgun (assault), one rifle (assault), two shotguns                                                       1\n",
              "Two semiautomatic handguns, one rifle                                                                                        1\n",
              "Two semiautomatic handguns, two rifles, three revolvers, two derringers                                                      1\n",
              "Two semiautomatic handguns, one revolver                                                                                     1\n",
              "One semiautomatic rifle, two shotguns                                                                                        1\n",
              "weapon_type                                                                                                                  1\n",
              "Three semi-automatic handguns and two hunting knives                                                                         1\n",
              "Two semiautomatic handguns, one rifle (assault), one shotgun (assault)                                                       1\n",
              "One semiautomatic handgun, one shotgun                                                                                       1\n",
              "Semiautomatic rifle; semiautomatic handgun                                                                                   1\n",
              "Semiautomatic rifle, semiautomatic handgun                                                                                   1\n",
              "One Semiautomatic handgun                                                                                                    1\n",
              "One assault rifle, two semiautomatic pistols, one shotgun                                                                    1\n",
              "One semiautomatic rifle, three semiautomatic handguns                                                                        1\n",
              "One shotgun, one revolver                                                                                                    1\n",
              "23 firearms, mostly rifles; including scopes, and two modified for \"fully automatic\" firing; two were mounted on tripods     1\n",
              "Two shotguns                                                                                                                 1\n",
              "One handgun, one shotgun                                                                                                     1\n",
              "Two semiautomatic rifles; one semiautomatic handgun                                                                          1\n",
              "Two semiautomatic rifles, two semiautomatic handguns                                                                         1\n",
              "Seven semiautomatic rifles, one shotgun, five handguns                                                                       1\n",
              "One semiautomatic rifle, five semiautomatic handguns                                                                         1\n",
              "Two handguns\\n                                                                                                               1\n",
              "Semiautomatic handgun                                                                                                        1\n",
              "Two handguns and a butcher knife                                                                                             1\n",
              "One shotgun, one handgun                                                                                                     1\n",
              "One semiautomatic rifle, one shotgun, one revolver                                                                           1\n",
              "Name: weapon_type, dtype: int64"
            ]
          },
          "metadata": {},
          "execution_count": 21
        }
      ]
    },
    {
      "cell_type": "code",
      "source": [
        "# How many attackers used knives?\n",
        "knife_attacks = 1\n",
        "\n",
        "if knife_attacks > 2:\n",
        "  print(knife_attacks, \"attackers used knives. That is more than the number of attackers who used derringers.\")\n",
        "elif knife_attacks == 1 :\n",
        "  print(knife_attacks, \"attacker used a knife. That is less than the amount of attackers who used derringers and less than the amount of attackers who used guns.\")\n",
        "else:\n",
        "  print(knife_attacks, \"is the number of attackers who used knives during their assault.\")"
      ],
      "metadata": {
        "colab": {
          "base_uri": "https://localhost:8080/"
        },
        "id": "_p55bXagT_Sc",
        "outputId": "2bc5cf43-68e6-4745-a294-95a624a618ba"
      },
      "execution_count": null,
      "outputs": [
        {
          "output_type": "stream",
          "name": "stdout",
          "text": [
            "1 attacker used a knife. That is less than the amount of attackers who used derringers and less than the amount of attackers who used guns.\n"
          ]
        }
      ]
    },
    {
      "cell_type": "code",
      "source": [
        "# When did the knife attack occur?\n",
        "\n",
        "knife_years = ['2014']\n",
        "\n",
        "for years in knife_years:\n",
        "  print('A victim was wounded by a butcher knife in the year ' + years + \".\")"
      ],
      "metadata": {
        "colab": {
          "base_uri": "https://localhost:8080/"
        },
        "id": "e2zayxtYC9MK",
        "outputId": "02b5ddf3-fbd9-45e0-de09-f772c483359a"
      },
      "execution_count": null,
      "outputs": [
        {
          "output_type": "stream",
          "name": "stdout",
          "text": [
            "A victim was wounded by a butcher knife in the year 2014.\n"
          ]
        }
      ]
    },
    {
      "cell_type": "code",
      "source": [
        "# What about derringer attacks?\n",
        "\n",
        "derringer_years = ['1998', '1999', '2000', '2001', '2002', '2003','2004']\n",
        "\n",
        "for deryears in derringer_years:\n",
        "   if deryears == '1999':\n",
        "     print('One derringer attack occured in the year ' + deryears + '.')\n",
        "     continue\n",
        "   if deryears == '2003':\n",
        "     print('Another would occur during ' + deryears +'.')\n",
        "     break"
      ],
      "metadata": {
        "colab": {
          "base_uri": "https://localhost:8080/"
        },
        "id": "uPYBmu8WDk5m",
        "outputId": "e5a423f6-841d-42b2-a220-30725f2f608a"
      },
      "execution_count": null,
      "outputs": [
        {
          "output_type": "stream",
          "name": "stdout",
          "text": [
            "One derringer attack occured in the year 1999.\n",
            "Another would occur during 2003.\n"
          ]
        }
      ]
    },
    {
      "cell_type": "code",
      "source": [
        "# In the past ten years, which years were semi-automatic weapons used during attacks?\n",
        "\n",
        "gun_years = 1990\n",
        "\n",
        "while (gun_years < 2023):\n",
        "    print (gun_years)\n",
        "    gun_years = gun_years + 1"
      ],
      "metadata": {
        "colab": {
          "base_uri": "https://localhost:8080/"
        },
        "id": "xPV3a0mCD154",
        "outputId": "63378d7c-ec17-4eaa-d56d-f0b02bf2e946"
      },
      "execution_count": null,
      "outputs": [
        {
          "output_type": "stream",
          "name": "stdout",
          "text": [
            "1990\n",
            "1991\n",
            "1992\n",
            "1993\n",
            "1994\n",
            "1995\n",
            "1996\n",
            "1997\n",
            "1998\n",
            "1999\n",
            "2000\n",
            "2001\n",
            "2002\n",
            "2003\n",
            "2004\n",
            "2005\n",
            "2006\n",
            "2007\n",
            "2008\n",
            "2009\n",
            "2010\n",
            "2011\n",
            "2012\n",
            "2013\n",
            "2014\n",
            "2015\n",
            "2016\n",
            "2017\n",
            "2018\n",
            "2019\n",
            "2020\n",
            "2021\n",
            "2022\n"
          ]
        }
      ]
    },
    {
      "cell_type": "code",
      "source": [
        "# We could also use range to describe this.\n",
        "\n",
        "for x in range(1990,2022):\n",
        "  print(x)"
      ],
      "metadata": {
        "colab": {
          "base_uri": "https://localhost:8080/"
        },
        "id": "SIWxv8wtD-zo",
        "outputId": "cbf23e25-7486-4a4c-fa20-105996690901"
      },
      "execution_count": null,
      "outputs": [
        {
          "output_type": "stream",
          "name": "stdout",
          "text": [
            "1990\n",
            "1991\n",
            "1992\n",
            "1993\n",
            "1994\n",
            "1995\n",
            "1996\n",
            "1997\n",
            "1998\n",
            "1999\n",
            "2000\n",
            "2001\n",
            "2002\n",
            "2003\n",
            "2004\n",
            "2005\n",
            "2006\n",
            "2007\n",
            "2008\n",
            "2009\n",
            "2010\n",
            "2011\n",
            "2012\n",
            "2013\n",
            "2014\n",
            "2015\n",
            "2016\n",
            "2017\n",
            "2018\n",
            "2019\n",
            "2020\n",
            "2021\n"
          ]
        }
      ]
    },
    {
      "cell_type": "code",
      "source": [
        "# Moving on... Let's calculate the slope.\n",
        "\n",
        "def slope(year1, year2, victims1, victims2):\n",
        "  '''A slope function that uses years as the independent variable and\n",
        "  number of victims as the dependent variable to estimate the rate of change (roc) over time.\n",
        "  '''\n",
        "  rise = year2-year1\n",
        "  run = victims2-victims1\n",
        "  roc = rise/run\n",
        "  return roc"
      ],
      "metadata": {
        "id": "1E-Fj9MLEAwW"
      },
      "execution_count": null,
      "outputs": []
    },
    {
      "cell_type": "code",
      "source": [
        "# Using the two rows in the dataset (total_victims):\n",
        "slope(2001, 2003, 9, 15)"
      ],
      "metadata": {
        "colab": {
          "base_uri": "https://localhost:8080/"
        },
        "id": "NI7_FMngEBTU",
        "outputId": "ac144835-50e5-47f9-a547-adf4a8c56b73"
      },
      "execution_count": null,
      "outputs": [
        {
          "output_type": "execute_result",
          "data": {
            "text/plain": [
              "0.3333333333333333"
            ]
          },
          "metadata": {},
          "execution_count": 28
        }
      ]
    },
    {
      "cell_type": "markdown",
      "source": [
        "# Module 5&6"
      ],
      "metadata": {
        "id": "rRb_v3tzqFn3"
      }
    },
    {
      "cell_type": "markdown",
      "source": [
        "The hypotheses are as follows:\n",
        "1) Most mass shootings involve semiautomatic weapons.\n",
        "2) Mass shootings have increased with year since 1982.\n",
        "3) Total victim number increases with semiautomatic weapons.\n",
        "4) Total victim number has increased with year."
      ],
      "metadata": {
        "id": "Fa4px14zY46U"
      }
    },
    {
      "cell_type": "markdown",
      "source": [
        "# installing somw packages we're going to need.\n",
        "\n",
        "! pip install --upgrade tables\n",
        "import scipy.stats\n",
        "import seaborn as sns\n",
        "import matplotlib as plt"
      ],
      "metadata": {
        "id": "4LP4RGtHNrEd"
      }
    },
    {
      "cell_type": "code",
      "source": [
        "guns_df = pd.read_csv(\"thebleak13s1.csv\") # read in CSV file. Note, for some reason, it doesn't work with the engine."
      ],
      "metadata": {
        "id": "nNZa3KQddJUY"
      },
      "execution_count": null,
      "outputs": []
    },
    {
      "cell_type": "code",
      "source": [
        "guns_df.head() # view top few lines of the df"
      ],
      "metadata": {
        "colab": {
          "base_uri": "https://localhost:8080/",
          "height": 716
        },
        "id": "VJBoK-WpdSih",
        "outputId": "cb287a3b-e572-4df6-a997-e95a82138d1d"
      },
      "execution_count": null,
      "outputs": [
        {
          "output_type": "execute_result",
          "data": {
            "text/plain": [
              "                              case                    location  \\\n",
              "0        Virginia Walmart shooting        Chesapeake, Virginia   \n",
              "1              LGBTQ club shooting  Colorado Springs, Colorado   \n",
              "2  University of Virginia shooting   Charlottesville, Virginia   \n",
              "3           Raleigh spree shooting   Hedingham, North Carolina   \n",
              "4     Greenwood Park Mall shooting          Greenwood, Indiana   \n",
              "\n",
              "               city           state        date  \\\n",
              "0        Chesapeake        Virginia  11/22/2022   \n",
              "1  Colorado Springs        Colorado  11/19/2022   \n",
              "2   Charlottesville        Virginia  11/13/2022   \n",
              "3         Hedingham  North Carolina  10/13/2022   \n",
              "4         Greenwood         Indiana   7/17/2022   \n",
              "\n",
              "                                             summary  fatalities  injured  \\\n",
              "0  Andre Bing, 31, who worked as a supervisor at ...           6        6   \n",
              "1  Anderson L. Aldrich, 22, wore body armor and o...           5       25   \n",
              "2  Christopher Darnell Jones Jr., 22, allegedly o...           3        2   \n",
              "3  Austin Thompson, 15, went on a rampage in the ...           5        2   \n",
              "4  Jonathan Sapirman, 20, opened fire in a mall f...           3        2   \n",
              "\n",
              "   total_victims location_2  ...                              weapon_details  \\\n",
              "0             12  Workplace  ...                                           -   \n",
              "1             30      Other  ...                                           -   \n",
              "2              5     School  ...                                           -   \n",
              "3              7      Other  ...                                         NaN   \n",
              "4              5  Workplace  ...  Sig Sauer M400 rifle, MP15 rifle, Glock 33   \n",
              "\n",
              "    race gender                                            sources  \\\n",
              "0      -      M  https://www.washingtonpost.com/dc-md-va/2022/1...   \n",
              "1  White      M  https://coloradosun.com/2022/11/20/club-q-shoo...   \n",
              "2  Black      M  https://www.washingtonpost.com/nation/2022/11/...   \n",
              "3  White      M  https://www.newsobserver.com/news/local/crime/...   \n",
              "4  White      M  https://apnews.com/article/indiana-mall-shooti...   \n",
              "\n",
              "                               mental_health_sources sources_additional_age  \\\n",
              "0                                                  -                      -   \n",
              "1  https://www.nytimes.com/2022/11/20/us/colorado...                      -   \n",
              "2                                                  -                      -   \n",
              "3                                                  -                      -   \n",
              "4                                                  -                      -   \n",
              "\n",
              "  latitude longitude   type  year  \n",
              "0        -         -   Mass  2022  \n",
              "1        -         -   Mass  2022  \n",
              "2        -         -   Mass  2022  \n",
              "3        -         -  Spree  2022  \n",
              "4        -         -   Mass  2022  \n",
              "\n",
              "[5 rows x 26 columns]"
            ],
            "text/html": [
              "\n",
              "  <div id=\"df-a1eca48c-5b1b-441e-89d9-58d09879827d\">\n",
              "    <div class=\"colab-df-container\">\n",
              "      <div>\n",
              "<style scoped>\n",
              "    .dataframe tbody tr th:only-of-type {\n",
              "        vertical-align: middle;\n",
              "    }\n",
              "\n",
              "    .dataframe tbody tr th {\n",
              "        vertical-align: top;\n",
              "    }\n",
              "\n",
              "    .dataframe thead th {\n",
              "        text-align: right;\n",
              "    }\n",
              "</style>\n",
              "<table border=\"1\" class=\"dataframe\">\n",
              "  <thead>\n",
              "    <tr style=\"text-align: right;\">\n",
              "      <th></th>\n",
              "      <th>case</th>\n",
              "      <th>location</th>\n",
              "      <th>city</th>\n",
              "      <th>state</th>\n",
              "      <th>date</th>\n",
              "      <th>summary</th>\n",
              "      <th>fatalities</th>\n",
              "      <th>injured</th>\n",
              "      <th>total_victims</th>\n",
              "      <th>location_2</th>\n",
              "      <th>...</th>\n",
              "      <th>weapon_details</th>\n",
              "      <th>race</th>\n",
              "      <th>gender</th>\n",
              "      <th>sources</th>\n",
              "      <th>mental_health_sources</th>\n",
              "      <th>sources_additional_age</th>\n",
              "      <th>latitude</th>\n",
              "      <th>longitude</th>\n",
              "      <th>type</th>\n",
              "      <th>year</th>\n",
              "    </tr>\n",
              "  </thead>\n",
              "  <tbody>\n",
              "    <tr>\n",
              "      <th>0</th>\n",
              "      <td>Virginia Walmart shooting</td>\n",
              "      <td>Chesapeake, Virginia</td>\n",
              "      <td>Chesapeake</td>\n",
              "      <td>Virginia</td>\n",
              "      <td>11/22/2022</td>\n",
              "      <td>Andre Bing, 31, who worked as a supervisor at ...</td>\n",
              "      <td>6</td>\n",
              "      <td>6</td>\n",
              "      <td>12</td>\n",
              "      <td>Workplace</td>\n",
              "      <td>...</td>\n",
              "      <td>-</td>\n",
              "      <td>-</td>\n",
              "      <td>M</td>\n",
              "      <td>https://www.washingtonpost.com/dc-md-va/2022/1...</td>\n",
              "      <td>-</td>\n",
              "      <td>-</td>\n",
              "      <td>-</td>\n",
              "      <td>-</td>\n",
              "      <td>Mass</td>\n",
              "      <td>2022</td>\n",
              "    </tr>\n",
              "    <tr>\n",
              "      <th>1</th>\n",
              "      <td>LGBTQ club shooting</td>\n",
              "      <td>Colorado Springs, Colorado</td>\n",
              "      <td>Colorado Springs</td>\n",
              "      <td>Colorado</td>\n",
              "      <td>11/19/2022</td>\n",
              "      <td>Anderson L. Aldrich, 22, wore body armor and o...</td>\n",
              "      <td>5</td>\n",
              "      <td>25</td>\n",
              "      <td>30</td>\n",
              "      <td>Other</td>\n",
              "      <td>...</td>\n",
              "      <td>-</td>\n",
              "      <td>White</td>\n",
              "      <td>M</td>\n",
              "      <td>https://coloradosun.com/2022/11/20/club-q-shoo...</td>\n",
              "      <td>https://www.nytimes.com/2022/11/20/us/colorado...</td>\n",
              "      <td>-</td>\n",
              "      <td>-</td>\n",
              "      <td>-</td>\n",
              "      <td>Mass</td>\n",
              "      <td>2022</td>\n",
              "    </tr>\n",
              "    <tr>\n",
              "      <th>2</th>\n",
              "      <td>University of Virginia shooting</td>\n",
              "      <td>Charlottesville, Virginia</td>\n",
              "      <td>Charlottesville</td>\n",
              "      <td>Virginia</td>\n",
              "      <td>11/13/2022</td>\n",
              "      <td>Christopher Darnell Jones Jr., 22, allegedly o...</td>\n",
              "      <td>3</td>\n",
              "      <td>2</td>\n",
              "      <td>5</td>\n",
              "      <td>School</td>\n",
              "      <td>...</td>\n",
              "      <td>-</td>\n",
              "      <td>Black</td>\n",
              "      <td>M</td>\n",
              "      <td>https://www.washingtonpost.com/nation/2022/11/...</td>\n",
              "      <td>-</td>\n",
              "      <td>-</td>\n",
              "      <td>-</td>\n",
              "      <td>-</td>\n",
              "      <td>Mass</td>\n",
              "      <td>2022</td>\n",
              "    </tr>\n",
              "    <tr>\n",
              "      <th>3</th>\n",
              "      <td>Raleigh spree shooting</td>\n",
              "      <td>Hedingham, North Carolina</td>\n",
              "      <td>Hedingham</td>\n",
              "      <td>North Carolina</td>\n",
              "      <td>10/13/2022</td>\n",
              "      <td>Austin Thompson, 15, went on a rampage in the ...</td>\n",
              "      <td>5</td>\n",
              "      <td>2</td>\n",
              "      <td>7</td>\n",
              "      <td>Other</td>\n",
              "      <td>...</td>\n",
              "      <td>NaN</td>\n",
              "      <td>White</td>\n",
              "      <td>M</td>\n",
              "      <td>https://www.newsobserver.com/news/local/crime/...</td>\n",
              "      <td>-</td>\n",
              "      <td>-</td>\n",
              "      <td>-</td>\n",
              "      <td>-</td>\n",
              "      <td>Spree</td>\n",
              "      <td>2022</td>\n",
              "    </tr>\n",
              "    <tr>\n",
              "      <th>4</th>\n",
              "      <td>Greenwood Park Mall shooting</td>\n",
              "      <td>Greenwood, Indiana</td>\n",
              "      <td>Greenwood</td>\n",
              "      <td>Indiana</td>\n",
              "      <td>7/17/2022</td>\n",
              "      <td>Jonathan Sapirman, 20, opened fire in a mall f...</td>\n",
              "      <td>3</td>\n",
              "      <td>2</td>\n",
              "      <td>5</td>\n",
              "      <td>Workplace</td>\n",
              "      <td>...</td>\n",
              "      <td>Sig Sauer M400 rifle, MP15 rifle, Glock 33</td>\n",
              "      <td>White</td>\n",
              "      <td>M</td>\n",
              "      <td>https://apnews.com/article/indiana-mall-shooti...</td>\n",
              "      <td>-</td>\n",
              "      <td>-</td>\n",
              "      <td>-</td>\n",
              "      <td>-</td>\n",
              "      <td>Mass</td>\n",
              "      <td>2022</td>\n",
              "    </tr>\n",
              "  </tbody>\n",
              "</table>\n",
              "<p>5 rows × 26 columns</p>\n",
              "</div>\n",
              "      <button class=\"colab-df-convert\" onclick=\"convertToInteractive('df-a1eca48c-5b1b-441e-89d9-58d09879827d')\"\n",
              "              title=\"Convert this dataframe to an interactive table.\"\n",
              "              style=\"display:none;\">\n",
              "        \n",
              "  <svg xmlns=\"http://www.w3.org/2000/svg\" height=\"24px\"viewBox=\"0 0 24 24\"\n",
              "       width=\"24px\">\n",
              "    <path d=\"M0 0h24v24H0V0z\" fill=\"none\"/>\n",
              "    <path d=\"M18.56 5.44l.94 2.06.94-2.06 2.06-.94-2.06-.94-.94-2.06-.94 2.06-2.06.94zm-11 1L8.5 8.5l.94-2.06 2.06-.94-2.06-.94L8.5 2.5l-.94 2.06-2.06.94zm10 10l.94 2.06.94-2.06 2.06-.94-2.06-.94-.94-2.06-.94 2.06-2.06.94z\"/><path d=\"M17.41 7.96l-1.37-1.37c-.4-.4-.92-.59-1.43-.59-.52 0-1.04.2-1.43.59L10.3 9.45l-7.72 7.72c-.78.78-.78 2.05 0 2.83L4 21.41c.39.39.9.59 1.41.59.51 0 1.02-.2 1.41-.59l7.78-7.78 2.81-2.81c.8-.78.8-2.07 0-2.86zM5.41 20L4 18.59l7.72-7.72 1.47 1.35L5.41 20z\"/>\n",
              "  </svg>\n",
              "      </button>\n",
              "      \n",
              "  <style>\n",
              "    .colab-df-container {\n",
              "      display:flex;\n",
              "      flex-wrap:wrap;\n",
              "      gap: 12px;\n",
              "    }\n",
              "\n",
              "    .colab-df-convert {\n",
              "      background-color: #E8F0FE;\n",
              "      border: none;\n",
              "      border-radius: 50%;\n",
              "      cursor: pointer;\n",
              "      display: none;\n",
              "      fill: #1967D2;\n",
              "      height: 32px;\n",
              "      padding: 0 0 0 0;\n",
              "      width: 32px;\n",
              "    }\n",
              "\n",
              "    .colab-df-convert:hover {\n",
              "      background-color: #E2EBFA;\n",
              "      box-shadow: 0px 1px 2px rgba(60, 64, 67, 0.3), 0px 1px 3px 1px rgba(60, 64, 67, 0.15);\n",
              "      fill: #174EA6;\n",
              "    }\n",
              "\n",
              "    [theme=dark] .colab-df-convert {\n",
              "      background-color: #3B4455;\n",
              "      fill: #D2E3FC;\n",
              "    }\n",
              "\n",
              "    [theme=dark] .colab-df-convert:hover {\n",
              "      background-color: #434B5C;\n",
              "      box-shadow: 0px 1px 3px 1px rgba(0, 0, 0, 0.15);\n",
              "      filter: drop-shadow(0px 1px 2px rgba(0, 0, 0, 0.3));\n",
              "      fill: #FFFFFF;\n",
              "    }\n",
              "  </style>\n",
              "\n",
              "      <script>\n",
              "        const buttonEl =\n",
              "          document.querySelector('#df-a1eca48c-5b1b-441e-89d9-58d09879827d button.colab-df-convert');\n",
              "        buttonEl.style.display =\n",
              "          google.colab.kernel.accessAllowed ? 'block' : 'none';\n",
              "\n",
              "        async function convertToInteractive(key) {\n",
              "          const element = document.querySelector('#df-a1eca48c-5b1b-441e-89d9-58d09879827d');\n",
              "          const dataTable =\n",
              "            await google.colab.kernel.invokeFunction('convertToInteractive',\n",
              "                                                     [key], {});\n",
              "          if (!dataTable) return;\n",
              "\n",
              "          const docLinkHtml = 'Like what you see? Visit the ' +\n",
              "            '<a target=\"_blank\" href=https://colab.research.google.com/notebooks/data_table.ipynb>data table notebook</a>'\n",
              "            + ' to learn more about interactive tables.';\n",
              "          element.innerHTML = '';\n",
              "          dataTable['output_type'] = 'display_data';\n",
              "          await google.colab.output.renderOutput(dataTable, element);\n",
              "          const docLink = document.createElement('div');\n",
              "          docLink.innerHTML = docLinkHtml;\n",
              "          element.appendChild(docLink);\n",
              "        }\n",
              "      </script>\n",
              "    </div>\n",
              "  </div>\n",
              "  "
            ]
          },
          "metadata": {},
          "execution_count": 64
        }
      ]
    },
    {
      "cell_type": "code",
      "source": [
        "redgun_df = guns_df[['total_victims', 'weapon_type', 'year']] # Subset df by choosing only columns of interest, based on hypotheses\n",
        "redgun_df # View subsetted df"
      ],
      "metadata": {
        "colab": {
          "base_uri": "https://localhost:8080/",
          "height": 424
        },
        "id": "y-91hwcPk18I",
        "outputId": "574c8b5b-dd4b-4927-9f19-9b53305762dd"
      },
      "execution_count": null,
      "outputs": [
        {
          "output_type": "execute_result",
          "data": {
            "text/plain": [
              "     total_victims                                        weapon_type  year\n",
              "0               12                              Semiautomatic handgun  2022\n",
              "1               30         Semiautomatic rifle; semiautomatic handgun  2022\n",
              "2                5                                                  -  2022\n",
              "3                7         Semiautomatic rifle, semiautomatic handgun  2022\n",
              "4                5  Two semiautomatic rifle, one semiautomatic han...  2022\n",
              "..             ...                                                ...   ...\n",
              "132             20  One semiautomatic rifle, one shotgun, one revo...  1987\n",
              "133             21                       Three semiautomatic handguns  1986\n",
              "134             41  One semiautomatic handgun, one semiautomatic r...  1984\n",
              "135              7                          One semiautomatic handgun  1984\n",
              "136             11                            One semiautomatic rifle  1982\n",
              "\n",
              "[137 rows x 3 columns]"
            ],
            "text/html": [
              "\n",
              "  <div id=\"df-b8a78f65-2e4a-4e37-974d-1eb0a7322413\">\n",
              "    <div class=\"colab-df-container\">\n",
              "      <div>\n",
              "<style scoped>\n",
              "    .dataframe tbody tr th:only-of-type {\n",
              "        vertical-align: middle;\n",
              "    }\n",
              "\n",
              "    .dataframe tbody tr th {\n",
              "        vertical-align: top;\n",
              "    }\n",
              "\n",
              "    .dataframe thead th {\n",
              "        text-align: right;\n",
              "    }\n",
              "</style>\n",
              "<table border=\"1\" class=\"dataframe\">\n",
              "  <thead>\n",
              "    <tr style=\"text-align: right;\">\n",
              "      <th></th>\n",
              "      <th>total_victims</th>\n",
              "      <th>weapon_type</th>\n",
              "      <th>year</th>\n",
              "    </tr>\n",
              "  </thead>\n",
              "  <tbody>\n",
              "    <tr>\n",
              "      <th>0</th>\n",
              "      <td>12</td>\n",
              "      <td>Semiautomatic handgun</td>\n",
              "      <td>2022</td>\n",
              "    </tr>\n",
              "    <tr>\n",
              "      <th>1</th>\n",
              "      <td>30</td>\n",
              "      <td>Semiautomatic rifle; semiautomatic handgun</td>\n",
              "      <td>2022</td>\n",
              "    </tr>\n",
              "    <tr>\n",
              "      <th>2</th>\n",
              "      <td>5</td>\n",
              "      <td>-</td>\n",
              "      <td>2022</td>\n",
              "    </tr>\n",
              "    <tr>\n",
              "      <th>3</th>\n",
              "      <td>7</td>\n",
              "      <td>Semiautomatic rifle, semiautomatic handgun</td>\n",
              "      <td>2022</td>\n",
              "    </tr>\n",
              "    <tr>\n",
              "      <th>4</th>\n",
              "      <td>5</td>\n",
              "      <td>Two semiautomatic rifle, one semiautomatic han...</td>\n",
              "      <td>2022</td>\n",
              "    </tr>\n",
              "    <tr>\n",
              "      <th>...</th>\n",
              "      <td>...</td>\n",
              "      <td>...</td>\n",
              "      <td>...</td>\n",
              "    </tr>\n",
              "    <tr>\n",
              "      <th>132</th>\n",
              "      <td>20</td>\n",
              "      <td>One semiautomatic rifle, one shotgun, one revo...</td>\n",
              "      <td>1987</td>\n",
              "    </tr>\n",
              "    <tr>\n",
              "      <th>133</th>\n",
              "      <td>21</td>\n",
              "      <td>Three semiautomatic handguns</td>\n",
              "      <td>1986</td>\n",
              "    </tr>\n",
              "    <tr>\n",
              "      <th>134</th>\n",
              "      <td>41</td>\n",
              "      <td>One semiautomatic handgun, one semiautomatic r...</td>\n",
              "      <td>1984</td>\n",
              "    </tr>\n",
              "    <tr>\n",
              "      <th>135</th>\n",
              "      <td>7</td>\n",
              "      <td>One semiautomatic handgun</td>\n",
              "      <td>1984</td>\n",
              "    </tr>\n",
              "    <tr>\n",
              "      <th>136</th>\n",
              "      <td>11</td>\n",
              "      <td>One semiautomatic rifle</td>\n",
              "      <td>1982</td>\n",
              "    </tr>\n",
              "  </tbody>\n",
              "</table>\n",
              "<p>137 rows × 3 columns</p>\n",
              "</div>\n",
              "      <button class=\"colab-df-convert\" onclick=\"convertToInteractive('df-b8a78f65-2e4a-4e37-974d-1eb0a7322413')\"\n",
              "              title=\"Convert this dataframe to an interactive table.\"\n",
              "              style=\"display:none;\">\n",
              "        \n",
              "  <svg xmlns=\"http://www.w3.org/2000/svg\" height=\"24px\"viewBox=\"0 0 24 24\"\n",
              "       width=\"24px\">\n",
              "    <path d=\"M0 0h24v24H0V0z\" fill=\"none\"/>\n",
              "    <path d=\"M18.56 5.44l.94 2.06.94-2.06 2.06-.94-2.06-.94-.94-2.06-.94 2.06-2.06.94zm-11 1L8.5 8.5l.94-2.06 2.06-.94-2.06-.94L8.5 2.5l-.94 2.06-2.06.94zm10 10l.94 2.06.94-2.06 2.06-.94-2.06-.94-.94-2.06-.94 2.06-2.06.94z\"/><path d=\"M17.41 7.96l-1.37-1.37c-.4-.4-.92-.59-1.43-.59-.52 0-1.04.2-1.43.59L10.3 9.45l-7.72 7.72c-.78.78-.78 2.05 0 2.83L4 21.41c.39.39.9.59 1.41.59.51 0 1.02-.2 1.41-.59l7.78-7.78 2.81-2.81c.8-.78.8-2.07 0-2.86zM5.41 20L4 18.59l7.72-7.72 1.47 1.35L5.41 20z\"/>\n",
              "  </svg>\n",
              "      </button>\n",
              "      \n",
              "  <style>\n",
              "    .colab-df-container {\n",
              "      display:flex;\n",
              "      flex-wrap:wrap;\n",
              "      gap: 12px;\n",
              "    }\n",
              "\n",
              "    .colab-df-convert {\n",
              "      background-color: #E8F0FE;\n",
              "      border: none;\n",
              "      border-radius: 50%;\n",
              "      cursor: pointer;\n",
              "      display: none;\n",
              "      fill: #1967D2;\n",
              "      height: 32px;\n",
              "      padding: 0 0 0 0;\n",
              "      width: 32px;\n",
              "    }\n",
              "\n",
              "    .colab-df-convert:hover {\n",
              "      background-color: #E2EBFA;\n",
              "      box-shadow: 0px 1px 2px rgba(60, 64, 67, 0.3), 0px 1px 3px 1px rgba(60, 64, 67, 0.15);\n",
              "      fill: #174EA6;\n",
              "    }\n",
              "\n",
              "    [theme=dark] .colab-df-convert {\n",
              "      background-color: #3B4455;\n",
              "      fill: #D2E3FC;\n",
              "    }\n",
              "\n",
              "    [theme=dark] .colab-df-convert:hover {\n",
              "      background-color: #434B5C;\n",
              "      box-shadow: 0px 1px 3px 1px rgba(0, 0, 0, 0.15);\n",
              "      filter: drop-shadow(0px 1px 2px rgba(0, 0, 0, 0.3));\n",
              "      fill: #FFFFFF;\n",
              "    }\n",
              "  </style>\n",
              "\n",
              "      <script>\n",
              "        const buttonEl =\n",
              "          document.querySelector('#df-b8a78f65-2e4a-4e37-974d-1eb0a7322413 button.colab-df-convert');\n",
              "        buttonEl.style.display =\n",
              "          google.colab.kernel.accessAllowed ? 'block' : 'none';\n",
              "\n",
              "        async function convertToInteractive(key) {\n",
              "          const element = document.querySelector('#df-b8a78f65-2e4a-4e37-974d-1eb0a7322413');\n",
              "          const dataTable =\n",
              "            await google.colab.kernel.invokeFunction('convertToInteractive',\n",
              "                                                     [key], {});\n",
              "          if (!dataTable) return;\n",
              "\n",
              "          const docLinkHtml = 'Like what you see? Visit the ' +\n",
              "            '<a target=\"_blank\" href=https://colab.research.google.com/notebooks/data_table.ipynb>data table notebook</a>'\n",
              "            + ' to learn more about interactive tables.';\n",
              "          element.innerHTML = '';\n",
              "          dataTable['output_type'] = 'display_data';\n",
              "          await google.colab.output.renderOutput(dataTable, element);\n",
              "          const docLink = document.createElement('div');\n",
              "          docLink.innerHTML = docLinkHtml;\n",
              "          element.appendChild(docLink);\n",
              "        }\n",
              "      </script>\n",
              "    </div>\n",
              "  </div>\n",
              "  "
            ]
          },
          "metadata": {},
          "execution_count": 65
        }
      ]
    },
    {
      "cell_type": "code",
      "source": [
        "redgun_df.describe() # descriptive summary of df"
      ],
      "metadata": {
        "colab": {
          "base_uri": "https://localhost:8080/",
          "height": 300
        },
        "id": "t9zh47XqmDAQ",
        "outputId": "fc05b77c-2a34-4657-84b7-e61a7b3ad84b"
      },
      "execution_count": null,
      "outputs": [
        {
          "output_type": "execute_result",
          "data": {
            "text/plain": [
              "       total_victims         year\n",
              "count     137.000000   137.000000\n",
              "mean       19.248175  2010.014599\n",
              "std        52.473352    10.732020\n",
              "min         3.000000  1982.000000\n",
              "25%         6.000000  2004.000000\n",
              "50%        10.000000  2014.000000\n",
              "75%        17.000000  2018.000000\n",
              "max       604.000000  2022.000000"
            ],
            "text/html": [
              "\n",
              "  <div id=\"df-cdbb5371-26f9-4a1c-83c2-14f20b17d1ce\">\n",
              "    <div class=\"colab-df-container\">\n",
              "      <div>\n",
              "<style scoped>\n",
              "    .dataframe tbody tr th:only-of-type {\n",
              "        vertical-align: middle;\n",
              "    }\n",
              "\n",
              "    .dataframe tbody tr th {\n",
              "        vertical-align: top;\n",
              "    }\n",
              "\n",
              "    .dataframe thead th {\n",
              "        text-align: right;\n",
              "    }\n",
              "</style>\n",
              "<table border=\"1\" class=\"dataframe\">\n",
              "  <thead>\n",
              "    <tr style=\"text-align: right;\">\n",
              "      <th></th>\n",
              "      <th>total_victims</th>\n",
              "      <th>year</th>\n",
              "    </tr>\n",
              "  </thead>\n",
              "  <tbody>\n",
              "    <tr>\n",
              "      <th>count</th>\n",
              "      <td>137.000000</td>\n",
              "      <td>137.000000</td>\n",
              "    </tr>\n",
              "    <tr>\n",
              "      <th>mean</th>\n",
              "      <td>19.248175</td>\n",
              "      <td>2010.014599</td>\n",
              "    </tr>\n",
              "    <tr>\n",
              "      <th>std</th>\n",
              "      <td>52.473352</td>\n",
              "      <td>10.732020</td>\n",
              "    </tr>\n",
              "    <tr>\n",
              "      <th>min</th>\n",
              "      <td>3.000000</td>\n",
              "      <td>1982.000000</td>\n",
              "    </tr>\n",
              "    <tr>\n",
              "      <th>25%</th>\n",
              "      <td>6.000000</td>\n",
              "      <td>2004.000000</td>\n",
              "    </tr>\n",
              "    <tr>\n",
              "      <th>50%</th>\n",
              "      <td>10.000000</td>\n",
              "      <td>2014.000000</td>\n",
              "    </tr>\n",
              "    <tr>\n",
              "      <th>75%</th>\n",
              "      <td>17.000000</td>\n",
              "      <td>2018.000000</td>\n",
              "    </tr>\n",
              "    <tr>\n",
              "      <th>max</th>\n",
              "      <td>604.000000</td>\n",
              "      <td>2022.000000</td>\n",
              "    </tr>\n",
              "  </tbody>\n",
              "</table>\n",
              "</div>\n",
              "      <button class=\"colab-df-convert\" onclick=\"convertToInteractive('df-cdbb5371-26f9-4a1c-83c2-14f20b17d1ce')\"\n",
              "              title=\"Convert this dataframe to an interactive table.\"\n",
              "              style=\"display:none;\">\n",
              "        \n",
              "  <svg xmlns=\"http://www.w3.org/2000/svg\" height=\"24px\"viewBox=\"0 0 24 24\"\n",
              "       width=\"24px\">\n",
              "    <path d=\"M0 0h24v24H0V0z\" fill=\"none\"/>\n",
              "    <path d=\"M18.56 5.44l.94 2.06.94-2.06 2.06-.94-2.06-.94-.94-2.06-.94 2.06-2.06.94zm-11 1L8.5 8.5l.94-2.06 2.06-.94-2.06-.94L8.5 2.5l-.94 2.06-2.06.94zm10 10l.94 2.06.94-2.06 2.06-.94-2.06-.94-.94-2.06-.94 2.06-2.06.94z\"/><path d=\"M17.41 7.96l-1.37-1.37c-.4-.4-.92-.59-1.43-.59-.52 0-1.04.2-1.43.59L10.3 9.45l-7.72 7.72c-.78.78-.78 2.05 0 2.83L4 21.41c.39.39.9.59 1.41.59.51 0 1.02-.2 1.41-.59l7.78-7.78 2.81-2.81c.8-.78.8-2.07 0-2.86zM5.41 20L4 18.59l7.72-7.72 1.47 1.35L5.41 20z\"/>\n",
              "  </svg>\n",
              "      </button>\n",
              "      \n",
              "  <style>\n",
              "    .colab-df-container {\n",
              "      display:flex;\n",
              "      flex-wrap:wrap;\n",
              "      gap: 12px;\n",
              "    }\n",
              "\n",
              "    .colab-df-convert {\n",
              "      background-color: #E8F0FE;\n",
              "      border: none;\n",
              "      border-radius: 50%;\n",
              "      cursor: pointer;\n",
              "      display: none;\n",
              "      fill: #1967D2;\n",
              "      height: 32px;\n",
              "      padding: 0 0 0 0;\n",
              "      width: 32px;\n",
              "    }\n",
              "\n",
              "    .colab-df-convert:hover {\n",
              "      background-color: #E2EBFA;\n",
              "      box-shadow: 0px 1px 2px rgba(60, 64, 67, 0.3), 0px 1px 3px 1px rgba(60, 64, 67, 0.15);\n",
              "      fill: #174EA6;\n",
              "    }\n",
              "\n",
              "    [theme=dark] .colab-df-convert {\n",
              "      background-color: #3B4455;\n",
              "      fill: #D2E3FC;\n",
              "    }\n",
              "\n",
              "    [theme=dark] .colab-df-convert:hover {\n",
              "      background-color: #434B5C;\n",
              "      box-shadow: 0px 1px 3px 1px rgba(0, 0, 0, 0.15);\n",
              "      filter: drop-shadow(0px 1px 2px rgba(0, 0, 0, 0.3));\n",
              "      fill: #FFFFFF;\n",
              "    }\n",
              "  </style>\n",
              "\n",
              "      <script>\n",
              "        const buttonEl =\n",
              "          document.querySelector('#df-cdbb5371-26f9-4a1c-83c2-14f20b17d1ce button.colab-df-convert');\n",
              "        buttonEl.style.display =\n",
              "          google.colab.kernel.accessAllowed ? 'block' : 'none';\n",
              "\n",
              "        async function convertToInteractive(key) {\n",
              "          const element = document.querySelector('#df-cdbb5371-26f9-4a1c-83c2-14f20b17d1ce');\n",
              "          const dataTable =\n",
              "            await google.colab.kernel.invokeFunction('convertToInteractive',\n",
              "                                                     [key], {});\n",
              "          if (!dataTable) return;\n",
              "\n",
              "          const docLinkHtml = 'Like what you see? Visit the ' +\n",
              "            '<a target=\"_blank\" href=https://colab.research.google.com/notebooks/data_table.ipynb>data table notebook</a>'\n",
              "            + ' to learn more about interactive tables.';\n",
              "          element.innerHTML = '';\n",
              "          dataTable['output_type'] = 'display_data';\n",
              "          await google.colab.output.renderOutput(dataTable, element);\n",
              "          const docLink = document.createElement('div');\n",
              "          docLink.innerHTML = docLinkHtml;\n",
              "          element.appendChild(docLink);\n",
              "        }\n",
              "      </script>\n",
              "    </div>\n",
              "  </div>\n",
              "  "
            ]
          },
          "metadata": {},
          "execution_count": 66
        }
      ]
    },
    {
      "cell_type": "code",
      "source": [
        "redgun1_df = redgun_df[redgun_df['total_victims'] < 600] # we have a crazy outlier so let's delete that.\n",
        "redgun1_df.describe()"
      ],
      "metadata": {
        "colab": {
          "base_uri": "https://localhost:8080/",
          "height": 300
        },
        "id": "qGj0PC-CllYs",
        "outputId": "e81f43de-51a7-4db0-ed2d-bce164ae6652"
      },
      "execution_count": null,
      "outputs": [
        {
          "output_type": "execute_result",
          "data": {
            "text/plain": [
              "       total_victims         year\n",
              "count     136.000000   136.000000\n",
              "mean       14.948529  2009.963235\n",
              "std        14.912247    10.754781\n",
              "min         3.000000  1982.000000\n",
              "25%         6.000000  2003.750000\n",
              "50%        10.000000  2014.000000\n",
              "75%        17.000000  2018.000000\n",
              "max       102.000000  2022.000000"
            ],
            "text/html": [
              "\n",
              "  <div id=\"df-93293b82-8797-4bdc-942e-e5d3eae29f12\">\n",
              "    <div class=\"colab-df-container\">\n",
              "      <div>\n",
              "<style scoped>\n",
              "    .dataframe tbody tr th:only-of-type {\n",
              "        vertical-align: middle;\n",
              "    }\n",
              "\n",
              "    .dataframe tbody tr th {\n",
              "        vertical-align: top;\n",
              "    }\n",
              "\n",
              "    .dataframe thead th {\n",
              "        text-align: right;\n",
              "    }\n",
              "</style>\n",
              "<table border=\"1\" class=\"dataframe\">\n",
              "  <thead>\n",
              "    <tr style=\"text-align: right;\">\n",
              "      <th></th>\n",
              "      <th>total_victims</th>\n",
              "      <th>year</th>\n",
              "    </tr>\n",
              "  </thead>\n",
              "  <tbody>\n",
              "    <tr>\n",
              "      <th>count</th>\n",
              "      <td>136.000000</td>\n",
              "      <td>136.000000</td>\n",
              "    </tr>\n",
              "    <tr>\n",
              "      <th>mean</th>\n",
              "      <td>14.948529</td>\n",
              "      <td>2009.963235</td>\n",
              "    </tr>\n",
              "    <tr>\n",
              "      <th>std</th>\n",
              "      <td>14.912247</td>\n",
              "      <td>10.754781</td>\n",
              "    </tr>\n",
              "    <tr>\n",
              "      <th>min</th>\n",
              "      <td>3.000000</td>\n",
              "      <td>1982.000000</td>\n",
              "    </tr>\n",
              "    <tr>\n",
              "      <th>25%</th>\n",
              "      <td>6.000000</td>\n",
              "      <td>2003.750000</td>\n",
              "    </tr>\n",
              "    <tr>\n",
              "      <th>50%</th>\n",
              "      <td>10.000000</td>\n",
              "      <td>2014.000000</td>\n",
              "    </tr>\n",
              "    <tr>\n",
              "      <th>75%</th>\n",
              "      <td>17.000000</td>\n",
              "      <td>2018.000000</td>\n",
              "    </tr>\n",
              "    <tr>\n",
              "      <th>max</th>\n",
              "      <td>102.000000</td>\n",
              "      <td>2022.000000</td>\n",
              "    </tr>\n",
              "  </tbody>\n",
              "</table>\n",
              "</div>\n",
              "      <button class=\"colab-df-convert\" onclick=\"convertToInteractive('df-93293b82-8797-4bdc-942e-e5d3eae29f12')\"\n",
              "              title=\"Convert this dataframe to an interactive table.\"\n",
              "              style=\"display:none;\">\n",
              "        \n",
              "  <svg xmlns=\"http://www.w3.org/2000/svg\" height=\"24px\"viewBox=\"0 0 24 24\"\n",
              "       width=\"24px\">\n",
              "    <path d=\"M0 0h24v24H0V0z\" fill=\"none\"/>\n",
              "    <path d=\"M18.56 5.44l.94 2.06.94-2.06 2.06-.94-2.06-.94-.94-2.06-.94 2.06-2.06.94zm-11 1L8.5 8.5l.94-2.06 2.06-.94-2.06-.94L8.5 2.5l-.94 2.06-2.06.94zm10 10l.94 2.06.94-2.06 2.06-.94-2.06-.94-.94-2.06-.94 2.06-2.06.94z\"/><path d=\"M17.41 7.96l-1.37-1.37c-.4-.4-.92-.59-1.43-.59-.52 0-1.04.2-1.43.59L10.3 9.45l-7.72 7.72c-.78.78-.78 2.05 0 2.83L4 21.41c.39.39.9.59 1.41.59.51 0 1.02-.2 1.41-.59l7.78-7.78 2.81-2.81c.8-.78.8-2.07 0-2.86zM5.41 20L4 18.59l7.72-7.72 1.47 1.35L5.41 20z\"/>\n",
              "  </svg>\n",
              "      </button>\n",
              "      \n",
              "  <style>\n",
              "    .colab-df-container {\n",
              "      display:flex;\n",
              "      flex-wrap:wrap;\n",
              "      gap: 12px;\n",
              "    }\n",
              "\n",
              "    .colab-df-convert {\n",
              "      background-color: #E8F0FE;\n",
              "      border: none;\n",
              "      border-radius: 50%;\n",
              "      cursor: pointer;\n",
              "      display: none;\n",
              "      fill: #1967D2;\n",
              "      height: 32px;\n",
              "      padding: 0 0 0 0;\n",
              "      width: 32px;\n",
              "    }\n",
              "\n",
              "    .colab-df-convert:hover {\n",
              "      background-color: #E2EBFA;\n",
              "      box-shadow: 0px 1px 2px rgba(60, 64, 67, 0.3), 0px 1px 3px 1px rgba(60, 64, 67, 0.15);\n",
              "      fill: #174EA6;\n",
              "    }\n",
              "\n",
              "    [theme=dark] .colab-df-convert {\n",
              "      background-color: #3B4455;\n",
              "      fill: #D2E3FC;\n",
              "    }\n",
              "\n",
              "    [theme=dark] .colab-df-convert:hover {\n",
              "      background-color: #434B5C;\n",
              "      box-shadow: 0px 1px 3px 1px rgba(0, 0, 0, 0.15);\n",
              "      filter: drop-shadow(0px 1px 2px rgba(0, 0, 0, 0.3));\n",
              "      fill: #FFFFFF;\n",
              "    }\n",
              "  </style>\n",
              "\n",
              "      <script>\n",
              "        const buttonEl =\n",
              "          document.querySelector('#df-93293b82-8797-4bdc-942e-e5d3eae29f12 button.colab-df-convert');\n",
              "        buttonEl.style.display =\n",
              "          google.colab.kernel.accessAllowed ? 'block' : 'none';\n",
              "\n",
              "        async function convertToInteractive(key) {\n",
              "          const element = document.querySelector('#df-93293b82-8797-4bdc-942e-e5d3eae29f12');\n",
              "          const dataTable =\n",
              "            await google.colab.kernel.invokeFunction('convertToInteractive',\n",
              "                                                     [key], {});\n",
              "          if (!dataTable) return;\n",
              "\n",
              "          const docLinkHtml = 'Like what you see? Visit the ' +\n",
              "            '<a target=\"_blank\" href=https://colab.research.google.com/notebooks/data_table.ipynb>data table notebook</a>'\n",
              "            + ' to learn more about interactive tables.';\n",
              "          element.innerHTML = '';\n",
              "          dataTable['output_type'] = 'display_data';\n",
              "          await google.colab.output.renderOutput(dataTable, element);\n",
              "          const docLink = document.createElement('div');\n",
              "          docLink.innerHTML = docLinkHtml;\n",
              "          element.appendChild(docLink);\n",
              "        }\n",
              "      </script>\n",
              "    </div>\n",
              "  </div>\n",
              "  "
            ]
          },
          "metadata": {},
          "execution_count": 67
        }
      ]
    },
    {
      "cell_type": "code",
      "source": [
        "redgun1_df['total_victims'].skew() #Here, we are assessing the distribution of the data. This has a positive skew."
      ],
      "metadata": {
        "colab": {
          "base_uri": "https://localhost:8080/"
        },
        "id": "CZYh-FfFdmbD",
        "outputId": "51f5da4d-cd88-4941-bb21-78b7dc01c136"
      },
      "execution_count": null,
      "outputs": [
        {
          "output_type": "execute_result",
          "data": {
            "text/plain": [
              "2.8127676463695153"
            ]
          },
          "metadata": {},
          "execution_count": 68
        }
      ]
    },
    {
      "cell_type": "code",
      "source": [
        "redgun1_df['year'].skew() #Same as above. This has a negative skew."
      ],
      "metadata": {
        "colab": {
          "base_uri": "https://localhost:8080/"
        },
        "id": "1_gKAsVtdgYn",
        "outputId": "4b4da8d6-f92e-4000-d10b-1824f25f69e5"
      },
      "execution_count": null,
      "outputs": [
        {
          "output_type": "execute_result",
          "data": {
            "text/plain": [
              "-0.9037766231226557"
            ]
          },
          "metadata": {},
          "execution_count": 69
        }
      ]
    },
    {
      "cell_type": "code",
      "source": [
        "sns.pairplot(redgun1_df) # View pairwise bivariate distributions\n",
        "\n",
        "\"\"\"These data do not appear to be normally distributed.\"\"\""
      ],
      "metadata": {
        "colab": {
          "base_uri": "https://localhost:8080/",
          "height": 392
        },
        "id": "t4MOIc7tfWKg",
        "outputId": "944f5a7c-7232-49fd-f413-52f5a48962d8"
      },
      "execution_count": null,
      "outputs": [
        {
          "output_type": "execute_result",
          "data": {
            "text/plain": [
              "'These data do not appear to be normally distributed.'"
            ],
            "application/vnd.google.colaboratory.intrinsic+json": {
              "type": "string"
            }
          },
          "metadata": {},
          "execution_count": 70
        },
        {
          "output_type": "display_data",
          "data": {
            "text/plain": [
              "<Figure size 360x360 with 6 Axes>"
            ],
            "image/png": "[encoded data removed]"
          },
          "metadata": {
            "needs_background": "light"
          }
        }
      ]
    },
    {
      "cell_type": "code",
      "source": [
        "r, p = scipy.stats.pearsonr(redgun1_df['year'], redgun1_df['total_victims'])\n",
        "print(f\"Your correlation coefficient is {r} with a pval of {p}\") # Assessing correlation between year and total victims.\n",
        "\n",
        "\"\"\"Year and number of victims do not appear to be correlated.\"\"\""
      ],
      "metadata": {
        "colab": {
          "base_uri": "https://localhost:8080/",
          "height": 53
        },
        "id": "Zq0i1bdwdk2r",
        "outputId": "5f573c14-092f-4d2e-8ea0-c4417bc2e906"
      },
      "execution_count": null,
      "outputs": [
        {
          "output_type": "stream",
          "name": "stdout",
          "text": [
            "Your correlation coefficient is -0.07003167451721456 with a pval of 0.4178484524915669\n"
          ]
        },
        {
          "output_type": "execute_result",
          "data": {
            "text/plain": [
              "'Year and number of victims do not appear to be correlated.'"
            ],
            "application/vnd.google.colaboratory.intrinsic+json": {
              "type": "string"
            }
          },
          "metadata": {},
          "execution_count": 71
        }
      ]
    },
    {
      "cell_type": "code",
      "source": [
        "plot1 = sns.relplot(x=\"year\", y=\"total_victims\", data=redgun1_df)\n",
        "plot1.savefig(\"plot1.png\") # total victims plotted against year."
      ],
      "metadata": {
        "colab": {
          "base_uri": "https://localhost:8080/",
          "height": 369
        },
        "id": "GqG58gvwdi-F",
        "outputId": "ad09b390-9858-4a5c-fd73-f014f53778d2"
      },
      "execution_count": null,
      "outputs": [
        {
          "output_type": "display_data",
          "data": {
            "text/plain": [
              "<Figure size 360x360 with 1 Axes>"
            ],
            "image/png": "[encoded data removed]"
          },
          "metadata": {
            "needs_background": "light"
          }
        }
      ]
    },
    {
      "cell_type": "code",
      "source": [
        "redgun2_df = redgun1_df[redgun1_df['weapon_type'].str.contains('One')] # source: https://www.geeksforgeeks.org/select-rows-that-contain-specific-text-using-pandas/\n",
        "\n",
        "\"\"\"select only the weapon_types containing the word One.\n",
        "There are a lot of combintaion weapons in here, with different numbers. In order to standardize our results, we're only\n",
        "including data in which one gun was used.\"\"\"\n",
        "\n",
        "redgun3_df = redgun2_df[redgun2_df[\"weapon_type\"].str.contains(\"one|two|three|five\") == False] # source: https://www.geeksforgeeks.org/how-to-drop-rows-that-contain-a-specific-string-in-pandas/\n",
        "\n",
        "\"\"\"Now, we still have some combination weapons, such as One semiautomatic rifle, two handguns. Here, we are getting rid of the\n",
        "remaining combinations associated with One weapon, so we don't want anything containing the phrases one, two, three or five.\"\"\"\n",
        "\n",
        "redgun3_df # View subsetted df"
      ],
      "metadata": {
        "colab": {
          "base_uri": "https://localhost:8080/",
          "height": 1000
        },
        "id": "QC6QcitDkZJi",
        "outputId": "a44ff6be-1ad5-4c55-fffa-999c771082c5"
      },
      "execution_count": null,
      "outputs": [
        {
          "output_type": "execute_result",
          "data": {
            "text/plain": [
              "     total_victims                weapon_type  year\n",
              "5               53    One semiautomatic rifle  2022\n",
              "6                3                One handgun  2022\n",
              "10              13    One semiautomatic rifle  2022\n",
              "12              11  One semiautomatic handgun  2021\n",
              "13               9  One Semiautomatic handgun  2021\n",
              "14              15    One semiautomatic rifle  2021\n",
              "15               5  One semiautomatic handgun  2021\n",
              "21              11  One semiautomatic handgun  2019\n",
              "22              32    One semiautomatic rifle  2019\n",
              "23              36    One semiautomatic rifle  2019\n",
              "24              48    One semiautomatic rifle  2019\n",
              "25              15    One semiautomatic rifle  2019\n",
              "27              11  One semiautomatic handgun  2019\n",
              "28               4                One handgun  2019\n",
              "29               5  One semiautomatic handgun  2019\n",
              "30               3  One semiautomatic handgun  2018\n",
              "31              34  One semiautomatic handgun  2018\n",
              "33               6  One semiautomatic handgun  2018\n",
              "34               5               One revolver  2018\n",
              "35               5  One semiautomatic handgun  2018\n",
              "36               7                One shotgun  2018\n",
              "38               8    One semiautomatic rifle  2018\n",
              "40              34    One semiautomatic rifle  2018\n",
              "43              46    One semiautomatic rifle  2017\n",
              "44               3  One semiautomatic handgun  2017\n",
              "45               6  One semiautomatic handgun  2017\n",
              "49               5  One semiautomatic handgun  2017\n",
              "51               3               One revolver  2017\n",
              "52              11  One semiautomatic handgun  2017\n",
              "53               5    One semiautomatic rifle  2016\n",
              "58               8  One semiautomatic handgun  2016\n",
              "64              10  One semiautomatic handgun  2015\n",
              "66               6  One semiautomatic handgun  2014\n",
              "68              15  One semiautomatic handgun  2014\n",
              "71               7  One semiautomatic handgun  2013\n",
              "74               7                One shotgun  2013\n",
              "76               8  One semiautomatic handgun  2012\n",
              "77              10  One semiautomatic handgun  2012\n",
              "80              10  One semiautomatic handgun  2012\n",
              "81               5  One semiautomatic handgun  2012\n",
              "84              19  One semiautomatic handgun  2011\n",
              "87              44  One semiautomatic handgun  2009\n",
              "90               7  One semiautomatic handgun  2008\n",
              "93              13    One semiautomatic rifle  2007\n",
              "94               7    One semiautomatic rifle  2007\n",
              "99               8  One semiautomatic handgun  2006\n",
              "101             11  One semiautomatic handgun  2005\n",
              "102             12  One semiautomatic handgun  2004\n",
              "107              7  One semiautomatic handgun  1999\n",
              "113              6  One semiautomatic handgun  1998\n",
              "114              7    One semiautomatic rifle  1997\n",
              "115              7  One semiautomatic handgun  1997\n",
              "118             28    One semiautomatic rifle  1994\n",
              "119              5  One semiautomatic handgun  1993\n",
              "120             25  One semiautomatic handgun  1993\n",
              "123              5  One semiautomatic handgun  1992\n",
              "125             10                  One rifle  1991\n",
              "126              7               One revolver  1991\n",
              "135              7  One semiautomatic handgun  1984\n",
              "136             11    One semiautomatic rifle  1982"
            ],
            "text/html": [
              "\n",
              "  <div id=\"df-38f76688-6ecf-4aaa-84b7-341e4a70d544\">\n",
              "    <div class=\"colab-df-container\">\n",
              "      <div>\n",
              "<style scoped>\n",
              "    .dataframe tbody tr th:only-of-type {\n",
              "        vertical-align: middle;\n",
              "    }\n",
              "\n",
              "    .dataframe tbody tr th {\n",
              "        vertical-align: top;\n",
              "    }\n",
              "\n",
              "    .dataframe thead th {\n",
              "        text-align: right;\n",
              "    }\n",
              "</style>\n",
              "<table border=\"1\" class=\"dataframe\">\n",
              "  <thead>\n",
              "    <tr style=\"text-align: right;\">\n",
              "      <th></th>\n",
              "      <th>total_victims</th>\n",
              "      <th>weapon_type</th>\n",
              "      <th>year</th>\n",
              "    </tr>\n",
              "  </thead>\n",
              "  <tbody>\n",
              "    <tr>\n",
              "      <th>5</th>\n",
              "      <td>53</td>\n",
              "      <td>One semiautomatic rifle</td>\n",
              "      <td>2022</td>\n",
              "    </tr>\n",
              "    <tr>\n",
              "      <th>6</th>\n",
              "      <td>3</td>\n",
              "      <td>One handgun</td>\n",
              "      <td>2022</td>\n",
              "    </tr>\n",
              "    <tr>\n",
              "      <th>10</th>\n",
              "      <td>13</td>\n",
              "      <td>One semiautomatic rifle</td>\n",
              "      <td>2022</td>\n",
              "    </tr>\n",
              "    <tr>\n",
              "      <th>12</th>\n",
              "      <td>11</td>\n",
              "      <td>One semiautomatic handgun</td>\n",
              "      <td>2021</td>\n",
              "    </tr>\n",
              "    <tr>\n",
              "      <th>13</th>\n",
              "      <td>9</td>\n",
              "      <td>One Semiautomatic handgun</td>\n",
              "      <td>2021</td>\n",
              "    </tr>\n",
              "    <tr>\n",
              "      <th>14</th>\n",
              "      <td>15</td>\n",
              "      <td>One semiautomatic rifle</td>\n",
              "      <td>2021</td>\n",
              "    </tr>\n",
              "    <tr>\n",
              "      <th>15</th>\n",
              "      <td>5</td>\n",
              "      <td>One semiautomatic handgun</td>\n",
              "      <td>2021</td>\n",
              "    </tr>\n",
              "    <tr>\n",
              "      <th>21</th>\n",
              "      <td>11</td>\n",
              "      <td>One semiautomatic handgun</td>\n",
              "      <td>2019</td>\n",
              "    </tr>\n",
              "    <tr>\n",
              "      <th>22</th>\n",
              "      <td>32</td>\n",
              "      <td>One semiautomatic rifle</td>\n",
              "      <td>2019</td>\n",
              "    </tr>\n",
              "    <tr>\n",
              "      <th>23</th>\n",
              "      <td>36</td>\n",
              "      <td>One semiautomatic rifle</td>\n",
              "      <td>2019</td>\n",
              "    </tr>\n",
              "    <tr>\n",
              "      <th>24</th>\n",
              "      <td>48</td>\n",
              "      <td>One semiautomatic rifle</td>\n",
              "      <td>2019</td>\n",
              "    </tr>\n",
              "    <tr>\n",
              "      <th>25</th>\n",
              "      <td>15</td>\n",
              "      <td>One semiautomatic rifle</td>\n",
              "      <td>2019</td>\n",
              "    </tr>\n",
              "    <tr>\n",
              "      <th>27</th>\n",
              "      <td>11</td>\n",
              "      <td>One semiautomatic handgun</td>\n",
              "      <td>2019</td>\n",
              "    </tr>\n",
              "    <tr>\n",
              "      <th>28</th>\n",
              "      <td>4</td>\n",
              "      <td>One handgun</td>\n",
              "      <td>2019</td>\n",
              "    </tr>\n",
              "    <tr>\n",
              "      <th>29</th>\n",
              "      <td>5</td>\n",
              "      <td>One semiautomatic handgun</td>\n",
              "      <td>2019</td>\n",
              "    </tr>\n",
              "    <tr>\n",
              "      <th>30</th>\n",
              "      <td>3</td>\n",
              "      <td>One semiautomatic handgun</td>\n",
              "      <td>2018</td>\n",
              "    </tr>\n",
              "    <tr>\n",
              "      <th>31</th>\n",
              "      <td>34</td>\n",
              "      <td>One semiautomatic handgun</td>\n",
              "      <td>2018</td>\n",
              "    </tr>\n",
              "    <tr>\n",
              "      <th>33</th>\n",
              "      <td>6</td>\n",
              "      <td>One semiautomatic handgun</td>\n",
              "      <td>2018</td>\n",
              "    </tr>\n",
              "    <tr>\n",
              "      <th>34</th>\n",
              "      <td>5</td>\n",
              "      <td>One revolver</td>\n",
              "      <td>2018</td>\n",
              "    </tr>\n",
              "    <tr>\n",
              "      <th>35</th>\n",
              "      <td>5</td>\n",
              "      <td>One semiautomatic handgun</td>\n",
              "      <td>2018</td>\n",
              "    </tr>\n",
              "    <tr>\n",
              "      <th>36</th>\n",
              "      <td>7</td>\n",
              "      <td>One shotgun</td>\n",
              "      <td>2018</td>\n",
              "    </tr>\n",
              "    <tr>\n",
              "      <th>38</th>\n",
              "      <td>8</td>\n",
              "      <td>One semiautomatic rifle</td>\n",
              "      <td>2018</td>\n",
              "    </tr>\n",
              "    <tr>\n",
              "      <th>40</th>\n",
              "      <td>34</td>\n",
              "      <td>One semiautomatic rifle</td>\n",
              "      <td>2018</td>\n",
              "    </tr>\n",
              "    <tr>\n",
              "      <th>43</th>\n",
              "      <td>46</td>\n",
              "      <td>One semiautomatic rifle</td>\n",
              "      <td>2017</td>\n",
              "    </tr>\n",
              "    <tr>\n",
              "      <th>44</th>\n",
              "      <td>3</td>\n",
              "      <td>One semiautomatic handgun</td>\n",
              "      <td>2017</td>\n",
              "    </tr>\n",
              "    <tr>\n",
              "      <th>45</th>\n",
              "      <td>6</td>\n",
              "      <td>One semiautomatic handgun</td>\n",
              "      <td>2017</td>\n",
              "    </tr>\n",
              "    <tr>\n",
              "      <th>49</th>\n",
              "      <td>5</td>\n",
              "      <td>One semiautomatic handgun</td>\n",
              "      <td>2017</td>\n",
              "    </tr>\n",
              "    <tr>\n",
              "      <th>51</th>\n",
              "      <td>3</td>\n",
              "      <td>One revolver</td>\n",
              "      <td>2017</td>\n",
              "    </tr>\n",
              "    <tr>\n",
              "      <th>52</th>\n",
              "      <td>11</td>\n",
              "      <td>One semiautomatic handgun</td>\n",
              "      <td>2017</td>\n",
              "    </tr>\n",
              "    <tr>\n",
              "      <th>53</th>\n",
              "      <td>5</td>\n",
              "      <td>One semiautomatic rifle</td>\n",
              "      <td>2016</td>\n",
              "    </tr>\n",
              "    <tr>\n",
              "      <th>58</th>\n",
              "      <td>8</td>\n",
              "      <td>One semiautomatic handgun</td>\n",
              "      <td>2016</td>\n",
              "    </tr>\n",
              "    <tr>\n",
              "      <th>64</th>\n",
              "      <td>10</td>\n",
              "      <td>One semiautomatic handgun</td>\n",
              "      <td>2015</td>\n",
              "    </tr>\n",
              "    <tr>\n",
              "      <th>66</th>\n",
              "      <td>6</td>\n",
              "      <td>One semiautomatic handgun</td>\n",
              "      <td>2014</td>\n",
              "    </tr>\n",
              "    <tr>\n",
              "      <th>68</th>\n",
              "      <td>15</td>\n",
              "      <td>One semiautomatic handgun</td>\n",
              "      <td>2014</td>\n",
              "    </tr>\n",
              "    <tr>\n",
              "      <th>71</th>\n",
              "      <td>7</td>\n",
              "      <td>One semiautomatic handgun</td>\n",
              "      <td>2013</td>\n",
              "    </tr>\n",
              "    <tr>\n",
              "      <th>74</th>\n",
              "      <td>7</td>\n",
              "      <td>One shotgun</td>\n",
              "      <td>2013</td>\n",
              "    </tr>\n",
              "    <tr>\n",
              "      <th>76</th>\n",
              "      <td>8</td>\n",
              "      <td>One semiautomatic handgun</td>\n",
              "      <td>2012</td>\n",
              "    </tr>\n",
              "    <tr>\n",
              "      <th>77</th>\n",
              "      <td>10</td>\n",
              "      <td>One semiautomatic handgun</td>\n",
              "      <td>2012</td>\n",
              "    </tr>\n",
              "    <tr>\n",
              "      <th>80</th>\n",
              "      <td>10</td>\n",
              "      <td>One semiautomatic handgun</td>\n",
              "      <td>2012</td>\n",
              "    </tr>\n",
              "    <tr>\n",
              "      <th>81</th>\n",
              "      <td>5</td>\n",
              "      <td>One semiautomatic handgun</td>\n",
              "      <td>2012</td>\n",
              "    </tr>\n",
              "    <tr>\n",
              "      <th>84</th>\n",
              "      <td>19</td>\n",
              "      <td>One semiautomatic handgun</td>\n",
              "      <td>2011</td>\n",
              "    </tr>\n",
              "    <tr>\n",
              "      <th>87</th>\n",
              "      <td>44</td>\n",
              "      <td>One semiautomatic handgun</td>\n",
              "      <td>2009</td>\n",
              "    </tr>\n",
              "    <tr>\n",
              "      <th>90</th>\n",
              "      <td>7</td>\n",
              "      <td>One semiautomatic handgun</td>\n",
              "      <td>2008</td>\n",
              "    </tr>\n",
              "    <tr>\n",
              "      <th>93</th>\n",
              "      <td>13</td>\n",
              "      <td>One semiautomatic rifle</td>\n",
              "      <td>2007</td>\n",
              "    </tr>\n",
              "    <tr>\n",
              "      <th>94</th>\n",
              "      <td>7</td>\n",
              "      <td>One semiautomatic rifle</td>\n",
              "      <td>2007</td>\n",
              "    </tr>\n",
              "    <tr>\n",
              "      <th>99</th>\n",
              "      <td>8</td>\n",
              "      <td>One semiautomatic handgun</td>\n",
              "      <td>2006</td>\n",
              "    </tr>\n",
              "    <tr>\n",
              "      <th>101</th>\n",
              "      <td>11</td>\n",
              "      <td>One semiautomatic handgun</td>\n",
              "      <td>2005</td>\n",
              "    </tr>\n",
              "    <tr>\n",
              "      <th>102</th>\n",
              "      <td>12</td>\n",
              "      <td>One semiautomatic handgun</td>\n",
              "      <td>2004</td>\n",
              "    </tr>\n",
              "    <tr>\n",
              "      <th>107</th>\n",
              "      <td>7</td>\n",
              "      <td>One semiautomatic handgun</td>\n",
              "      <td>1999</td>\n",
              "    </tr>\n",
              "    <tr>\n",
              "      <th>113</th>\n",
              "      <td>6</td>\n",
              "      <td>One semiautomatic handgun</td>\n",
              "      <td>1998</td>\n",
              "    </tr>\n",
              "    <tr>\n",
              "      <th>114</th>\n",
              "      <td>7</td>\n",
              "      <td>One semiautomatic rifle</td>\n",
              "      <td>1997</td>\n",
              "    </tr>\n",
              "    <tr>\n",
              "      <th>115</th>\n",
              "      <td>7</td>\n",
              "      <td>One semiautomatic handgun</td>\n",
              "      <td>1997</td>\n",
              "    </tr>\n",
              "    <tr>\n",
              "      <th>118</th>\n",
              "      <td>28</td>\n",
              "      <td>One semiautomatic rifle</td>\n",
              "      <td>1994</td>\n",
              "    </tr>\n",
              "    <tr>\n",
              "      <th>119</th>\n",
              "      <td>5</td>\n",
              "      <td>One semiautomatic handgun</td>\n",
              "      <td>1993</td>\n",
              "    </tr>\n",
              "    <tr>\n",
              "      <th>120</th>\n",
              "      <td>25</td>\n",
              "      <td>One semiautomatic handgun</td>\n",
              "      <td>1993</td>\n",
              "    </tr>\n",
              "    <tr>\n",
              "      <th>123</th>\n",
              "      <td>5</td>\n",
              "      <td>One semiautomatic handgun</td>\n",
              "      <td>1992</td>\n",
              "    </tr>\n",
              "    <tr>\n",
              "      <th>125</th>\n",
              "      <td>10</td>\n",
              "      <td>One rifle</td>\n",
              "      <td>1991</td>\n",
              "    </tr>\n",
              "    <tr>\n",
              "      <th>126</th>\n",
              "      <td>7</td>\n",
              "      <td>One revolver</td>\n",
              "      <td>1991</td>\n",
              "    </tr>\n",
              "    <tr>\n",
              "      <th>135</th>\n",
              "      <td>7</td>\n",
              "      <td>One semiautomatic handgun</td>\n",
              "      <td>1984</td>\n",
              "    </tr>\n",
              "    <tr>\n",
              "      <th>136</th>\n",
              "      <td>11</td>\n",
              "      <td>One semiautomatic rifle</td>\n",
              "      <td>1982</td>\n",
              "    </tr>\n",
              "  </tbody>\n",
              "</table>\n",
              "</div>\n",
              "      <button class=\"colab-df-convert\" onclick=\"convertToInteractive('df-38f76688-6ecf-4aaa-84b7-341e4a70d544')\"\n",
              "              title=\"Convert this dataframe to an interactive table.\"\n",
              "              style=\"display:none;\">\n",
              "        \n",
              "  <svg xmlns=\"http://www.w3.org/2000/svg\" height=\"24px\"viewBox=\"0 0 24 24\"\n",
              "       width=\"24px\">\n",
              "    <path d=\"M0 0h24v24H0V0z\" fill=\"none\"/>\n",
              "    <path d=\"M18.56 5.44l.94 2.06.94-2.06 2.06-.94-2.06-.94-.94-2.06-.94 2.06-2.06.94zm-11 1L8.5 8.5l.94-2.06 2.06-.94-2.06-.94L8.5 2.5l-.94 2.06-2.06.94zm10 10l.94 2.06.94-2.06 2.06-.94-2.06-.94-.94-2.06-.94 2.06-2.06.94z\"/><path d=\"M17.41 7.96l-1.37-1.37c-.4-.4-.92-.59-1.43-.59-.52 0-1.04.2-1.43.59L10.3 9.45l-7.72 7.72c-.78.78-.78 2.05 0 2.83L4 21.41c.39.39.9.59 1.41.59.51 0 1.02-.2 1.41-.59l7.78-7.78 2.81-2.81c.8-.78.8-2.07 0-2.86zM5.41 20L4 18.59l7.72-7.72 1.47 1.35L5.41 20z\"/>\n",
              "  </svg>\n",
              "      </button>\n",
              "      \n",
              "  <style>\n",
              "    .colab-df-container {\n",
              "      display:flex;\n",
              "      flex-wrap:wrap;\n",
              "      gap: 12px;\n",
              "    }\n",
              "\n",
              "    .colab-df-convert {\n",
              "      background-color: #E8F0FE;\n",
              "      border: none;\n",
              "      border-radius: 50%;\n",
              "      cursor: pointer;\n",
              "      display: none;\n",
              "      fill: #1967D2;\n",
              "      height: 32px;\n",
              "      padding: 0 0 0 0;\n",
              "      width: 32px;\n",
              "    }\n",
              "\n",
              "    .colab-df-convert:hover {\n",
              "      background-color: #E2EBFA;\n",
              "      box-shadow: 0px 1px 2px rgba(60, 64, 67, 0.3), 0px 1px 3px 1px rgba(60, 64, 67, 0.15);\n",
              "      fill: #174EA6;\n",
              "    }\n",
              "\n",
              "    [theme=dark] .colab-df-convert {\n",
              "      background-color: #3B4455;\n",
              "      fill: #D2E3FC;\n",
              "    }\n",
              "\n",
              "    [theme=dark] .colab-df-convert:hover {\n",
              "      background-color: #434B5C;\n",
              "      box-shadow: 0px 1px 3px 1px rgba(0, 0, 0, 0.15);\n",
              "      filter: drop-shadow(0px 1px 2px rgba(0, 0, 0, 0.3));\n",
              "      fill: #FFFFFF;\n",
              "    }\n",
              "  </style>\n",
              "\n",
              "      <script>\n",
              "        const buttonEl =\n",
              "          document.querySelector('#df-38f76688-6ecf-4aaa-84b7-341e4a70d544 button.colab-df-convert');\n",
              "        buttonEl.style.display =\n",
              "          google.colab.kernel.accessAllowed ? 'block' : 'none';\n",
              "\n",
              "        async function convertToInteractive(key) {\n",
              "          const element = document.querySelector('#df-38f76688-6ecf-4aaa-84b7-341e4a70d544');\n",
              "          const dataTable =\n",
              "            await google.colab.kernel.invokeFunction('convertToInteractive',\n",
              "                                                     [key], {});\n",
              "          if (!dataTable) return;\n",
              "\n",
              "          const docLinkHtml = 'Like what you see? Visit the ' +\n",
              "            '<a target=\"_blank\" href=https://colab.research.google.com/notebooks/data_table.ipynb>data table notebook</a>'\n",
              "            + ' to learn more about interactive tables.';\n",
              "          element.innerHTML = '';\n",
              "          dataTable['output_type'] = 'display_data';\n",
              "          await google.colab.output.renderOutput(dataTable, element);\n",
              "          const docLink = document.createElement('div');\n",
              "          docLink.innerHTML = docLinkHtml;\n",
              "          element.appendChild(docLink);\n",
              "        }\n",
              "      </script>\n",
              "    </div>\n",
              "  </div>\n",
              "  "
            ]
          },
          "metadata": {},
          "execution_count": 73
        }
      ]
    },
    {
      "cell_type": "code",
      "source": [
        "semi_df = redgun3_df[redgun3_df['weapon_type'].str.contains('One semiautomatic')] # Choose rows with semiautomatic weapons\n",
        "not_semi_df = redgun3_df[redgun3_df[\"weapon_type\"].str.contains(\"One semiautomatic\") == False] # Choose rows without semiautomatic weapons\n",
        "t2, p2 = scipy.stats.mannwhitneyu(semi_df[\"total_victims\"],not_semi_df[\"total_victims\"])\n",
        "\n",
        "\"\"\"Given that the data is likely not normally distributed, we will run a nonparametric two-sample t test, comparing the mean total victims\n",
        "in mass shooting with semiautomatics to those without semiautomatics.\"\"\"\n",
        "\n",
        "print(f\"Your t-statistic is {t2} with a pval of {p2}\") # These means are significantly different."
      ],
      "metadata": {
        "colab": {
          "base_uri": "https://localhost:8080/"
        },
        "id": "fazBXJOffDFG",
        "outputId": "5ab77435-ad7c-494a-bbfa-1cd4c3a0af00"
      },
      "execution_count": null,
      "outputs": [
        {
          "output_type": "stream",
          "name": "stdout",
          "text": [
            "Your t-statistic is 345.0 with a pval of 0.016712725161987425\n"
          ]
        }
      ]
    },
    {
      "cell_type": "code",
      "source": [
        "semi_df['weapon_type_binary'] = 'semiautomatic' # add a \"semiautomatic\" column to the semiautomatic slice of our df\n",
        "semi_df['binary'] = 1 # add a column of \"1s\" to our semiautomatic slice\n",
        "not_semi_df ['weapon_type_binary'] = 'not_semiautomatic' # add a \"not_semiautomatic\" column to the not semiautomatic slice of our df\n",
        "not_semi_df['binary'] = 0 # add a column of \"0s\" to our not semiautomatic slice\n",
        "\n",
        "catsem = [semi_df, not_semi_df] # create list of slices\n",
        "redgun3_df_cat = pd.concat(catsem) #concatonate slices with the new columns\n",
        "redgun3_df_cat # view concatonated df\n",
        "\n",
        "plot2 = sns.catplot(x=\"weapon_type_binary\", y=\"total_victims\", kind=\"violin\", data=redgun3_df_cat)\n",
        "plot2.savefig(\"plot2.png\")\n",
        "\n",
        "\"\"\"Make violin plot comparing total victims in mass shootings with semiautomatic vs without semiautomatic weapons.\n",
        "The total number of victims increased with the use of semiautomatic weapons.\"\"\""
      ],
      "metadata": {
        "colab": {
          "base_uri": "https://localhost:8080/",
          "height": 834
        },
        "id": "9HjrgTlAK3oQ",
        "outputId": "f9d38127-0393-47f3-9630-ea8c2b84aa90"
      },
      "execution_count": null,
      "outputs": [
        {
          "output_type": "stream",
          "name": "stderr",
          "text": [
            "<ipython-input-75-32de5e72e151>:1: SettingWithCopyWarning: \n",
            "A value is trying to be set on a copy of a slice from a DataFrame.\n",
            "Try using .loc[row_indexer,col_indexer] = value instead\n",
            "\n",
            "See the caveats in the documentation: https://pandas.pydata.org/pandas-docs/stable/user_guide/indexing.html#returning-a-view-versus-a-copy\n",
            "  semi_df['weapon_type_binary'] = 'semiautomatic' # add a \"semiautomatic\" column to the semiautomatic slice of our df\n",
            "<ipython-input-75-32de5e72e151>:2: SettingWithCopyWarning: \n",
            "A value is trying to be set on a copy of a slice from a DataFrame.\n",
            "Try using .loc[row_indexer,col_indexer] = value instead\n",
            "\n",
            "See the caveats in the documentation: https://pandas.pydata.org/pandas-docs/stable/user_guide/indexing.html#returning-a-view-versus-a-copy\n",
            "  semi_df['binary'] = 1 # add a column of \"1s\" to our semiautomatic slice\n",
            "<ipython-input-75-32de5e72e151>:3: SettingWithCopyWarning: \n",
            "A value is trying to be set on a copy of a slice from a DataFrame.\n",
            "Try using .loc[row_indexer,col_indexer] = value instead\n",
            "\n",
            "See the caveats in the documentation: https://pandas.pydata.org/pandas-docs/stable/user_guide/indexing.html#returning-a-view-versus-a-copy\n",
            "  not_semi_df ['weapon_type_binary'] = 'not_semiautomatic' # add a \"not_semiautomatic\" column to the not semiautomatic slice of our df\n",
            "<ipython-input-75-32de5e72e151>:4: SettingWithCopyWarning: \n",
            "A value is trying to be set on a copy of a slice from a DataFrame.\n",
            "Try using .loc[row_indexer,col_indexer] = value instead\n",
            "\n",
            "See the caveats in the documentation: https://pandas.pydata.org/pandas-docs/stable/user_guide/indexing.html#returning-a-view-versus-a-copy\n",
            "  not_semi_df['binary'] = 0 # add a column of \"0s\" to our not semiautomatic slice\n"
          ]
        },
        {
          "output_type": "execute_result",
          "data": {
            "text/plain": [
              "'Make violin plot comparing total victims in mass shootings with semiautomatic vs without semiautomatic weapons.\\nThe total number of victims increased with the use of semiautomatic weapons.'"
            ],
            "application/vnd.google.colaboratory.intrinsic+json": {
              "type": "string"
            }
          },
          "metadata": {},
          "execution_count": 75
        },
        {
          "output_type": "display_data",
          "data": {
            "text/plain": [
              "<Figure size 360x360 with 1 Axes>"
            ],
            "image/png": "[encoded data removed]"
          },
          "metadata": {
            "needs_background": "light"
          }
        }
      ]
    },
    {
      "cell_type": "code",
      "source": [
        "z, p = sms.ztest(redgun1_df['year']) # compare frequency of shootings per year.\n",
        "\n",
        "\"\"\"Note: Using the df including combination weapons here, not the slice with the single weapons only.\"\"\"\n",
        "\n",
        "print(f\"Your z-statistic is {z} with a pval of {p}\") # The frequencies vary with year."
      ],
      "metadata": {
        "colab": {
          "base_uri": "https://localhost:8080/"
        },
        "id": "zRe5pkM0PiNR",
        "outputId": "c71821f5-c535-42b2-e338-ce39dae97048"
      },
      "execution_count": null,
      "outputs": [
        {
          "output_type": "stream",
          "name": "stdout",
          "text": [
            "Your z-statistic is 2179.4956882826345 with a pval of 0.0\n"
          ]
        }
      ]
    },
    {
      "cell_type": "code",
      "source": [
        "plot3 = sns.catplot(x=\"year\", kind=\"count\", palette=\"ch:.25\", data=redgun1_df) # barplot of frequencies for each year\n",
        "plot3.set_xticklabels(rotation=90) #rotate axis labels. https://drawingfromdata.com/seaborn/matplotlib/visualization/rotate-axis-labels-matplotlib-seaborn.html\n",
        "plot3.savefig(\"plot3.png\")"
      ],
      "metadata": {
        "colab": {
          "base_uri": "https://localhost:8080/",
          "height": 385
        },
        "id": "3W_KtZvrOFDt",
        "outputId": "53bbed38-ea63-4a15-9337-1709864c87b4"
      },
      "execution_count": null,
      "outputs": [
        {
          "output_type": "display_data",
          "data": {
            "text/plain": [
              "<Figure size 360x360 with 1 Axes>"
            ],
            "image/png": "[encoded data removed]"
          },
          "metadata": {
            "needs_background": "light"
          }
        }
      ]
    },
    {
      "cell_type": "code",
      "source": [
        "z, p = sms.ztest(redgun3_df_cat['binary']) # z test comparing frequencies of shootings with and without semiautomatic weapons.\n",
        "print(f\"Your z-statistic is {z} with a pval of {p}\") # frequencies differ between weapon type."
      ],
      "metadata": {
        "colab": {
          "base_uri": "https://localhost:8080/"
        },
        "id": "zzRhtUUKZYpb",
        "outputId": "3dea3a7e-706a-4253-a6cb-f430a50ff962"
      },
      "execution_count": null,
      "outputs": [
        {
          "output_type": "stream",
          "name": "stdout",
          "text": [
            "Your z-statistic is 18.284784202536635 with a pval of 1.0939561578879976e-74\n"
          ]
        }
      ]
    },
    {
      "cell_type": "code",
      "source": [
        "plot4 = sns.catplot(x=\"weapon_type_binary\", kind=\"count\", palette=\"icefire\", data=redgun3_df_cat) #from https://seaborn.pydata.org/tutorial/color_palettes.html\n",
        "plot4.savefig(\"plot4.png\")\n",
        "\n",
        "\"\"\" barplot of frequencies for semiautomatic and non semiautomatic weapons.\"\"\""
      ],
      "metadata": {
        "colab": {
          "base_uri": "https://localhost:8080/",
          "height": 387
        },
        "id": "dN1yQQdEXPeA",
        "outputId": "07d20b86-ee9d-48b2-b53e-e8ef1cd90657"
      },
      "execution_count": null,
      "outputs": [
        {
          "output_type": "execute_result",
          "data": {
            "text/plain": [
              "' barplot of frequencies for semiautomatic and non semiautomatic weapons.'"
            ],
            "application/vnd.google.colaboratory.intrinsic+json": {
              "type": "string"
            }
          },
          "metadata": {},
          "execution_count": 79
        },
        {
          "output_type": "display_data",
          "data": {
            "text/plain": [
              "<Figure size 360x360 with 1 Axes>"
            ],
            "image/png": "[encoded data removed]"
          },
          "metadata": {
            "needs_background": "light"
          }
        }
      ]
    },
    {
      "cell_type": "code",
      "source": [
        "model = \"total_victims ~ year + weapon_type_binary\" # Fit total victims as response variable and year and weapon type as explanatory\n",
        "res = smf.glm(formula=model, family=sm.families.Gaussian(), data=redgun3_df_cat).fit()\n",
        "print(res.summary())\n",
        "\n",
        "\"\"\"GLM with a gaussian distribution using the specified model. Making Gaussian assumption with model; have not looked at qq plot of residuals.\n",
        "Year is not significant; weapon type is marginally nonsignificant.\"\"\""
      ],
      "metadata": {
        "colab": {
          "base_uri": "https://localhost:8080/",
          "height": 375
        },
        "id": "yJUwNlUFX8am",
        "outputId": "d0fcb7c3-9ec2-4757-9a3e-dbe6981f3842"
      },
      "execution_count": null,
      "outputs": [
        {
          "output_type": "stream",
          "name": "stdout",
          "text": [
            "                 Generalized Linear Model Regression Results                  \n",
            "==============================================================================\n",
            "Dep. Variable:          total_victims   No. Observations:                   60\n",
            "Model:                            GLM   Df Residuals:                       57\n",
            "Model Family:                Gaussian   Df Model:                            2\n",
            "Link Function:               identity   Scale:                          142.68\n",
            "Method:                          IRLS   Log-Likelihood:                -232.42\n",
            "Date:                Mon, 12 Dec 2022   Deviance:                       8132.6\n",
            "Time:                        12:24:12   Pearson chi2:                 8.13e+03\n",
            "No. Iterations:                     3                                         \n",
            "Covariance Type:            nonrobust                                         \n",
            "=======================================================================================================\n",
            "                                          coef    std err          z      P>|z|      [0.025      0.975]\n",
            "-------------------------------------------------------------------------------------------------------\n",
            "Intercept                            -354.7964    298.315     -1.189      0.234    -939.482     229.889\n",
            "weapon_type_binary[T.semiautomatic]     8.4233      4.323      1.948      0.051      -0.050      16.897\n",
            "year                                    0.1794      0.148      1.210      0.226      -0.111       0.470\n",
            "=======================================================================================================\n"
          ]
        },
        {
          "output_type": "execute_result",
          "data": {
            "text/plain": [
              "'GLM with a gaussian distribution using the specified model. Making Gaussian assumption with model; have not looked at qq plot of residuals.\\nYear is not significant; weapon type is marginally nonsignificant.'"
            ],
            "application/vnd.google.colaboratory.intrinsic+json": {
              "type": "string"
            }
          },
          "metadata": {},
          "execution_count": 48
        }
      ]
    }
  ]
}